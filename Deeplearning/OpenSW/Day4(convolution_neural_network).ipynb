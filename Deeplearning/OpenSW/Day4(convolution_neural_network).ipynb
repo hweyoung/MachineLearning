{
  "nbformat": 4,
  "nbformat_minor": 0,
  "metadata": {
    "colab": {
      "name": "openSW4(convolution_neural_network).ipynb",
      "provenance": [],
      "collapsed_sections": []
    },
    "kernelspec": {
      "name": "python3",
      "display_name": "Python 3"
    },
    "language_info": {
      "name": "python"
    },
    "accelerator": "GPU",
    "widgets": {
      "application/vnd.jupyter.widget-state+json": {
        "33177cf869a541feba830e93983a0944": {
          "model_module": "@jupyter-widgets/controls",
          "model_name": "HBoxModel",
          "model_module_version": "1.5.0",
          "state": {
            "_view_name": "HBoxView",
            "_dom_classes": [],
            "_model_name": "HBoxModel",
            "_view_module": "@jupyter-widgets/controls",
            "_model_module_version": "1.5.0",
            "_view_count": null,
            "_view_module_version": "1.5.0",
            "box_style": "",
            "layout": "IPY_MODEL_bc8fe7a4c6e7416387893a188bd20e5d",
            "_model_module": "@jupyter-widgets/controls",
            "children": [
              "IPY_MODEL_1bb9afd579734653b62eee02d523a6c0",
              "IPY_MODEL_8184e06565c6446fa0af4a00a8996516",
              "IPY_MODEL_9ac89ca4c6bf47edaa536ba0f98fcb2c"
            ]
          }
        },
        "bc8fe7a4c6e7416387893a188bd20e5d": {
          "model_module": "@jupyter-widgets/base",
          "model_name": "LayoutModel",
          "model_module_version": "1.2.0",
          "state": {
            "_view_name": "LayoutView",
            "grid_template_rows": null,
            "right": null,
            "justify_content": null,
            "_view_module": "@jupyter-widgets/base",
            "overflow": null,
            "_model_module_version": "1.2.0",
            "_view_count": null,
            "flex_flow": null,
            "width": null,
            "min_width": null,
            "border": null,
            "align_items": null,
            "bottom": null,
            "_model_module": "@jupyter-widgets/base",
            "top": null,
            "grid_column": null,
            "overflow_y": null,
            "overflow_x": null,
            "grid_auto_flow": null,
            "grid_area": null,
            "grid_template_columns": null,
            "flex": null,
            "_model_name": "LayoutModel",
            "justify_items": null,
            "grid_row": null,
            "max_height": null,
            "align_content": null,
            "visibility": null,
            "align_self": null,
            "height": null,
            "min_height": null,
            "padding": null,
            "grid_auto_rows": null,
            "grid_gap": null,
            "max_width": null,
            "order": null,
            "_view_module_version": "1.2.0",
            "grid_template_areas": null,
            "object_position": null,
            "object_fit": null,
            "grid_auto_columns": null,
            "margin": null,
            "display": null,
            "left": null
          }
        },
        "1bb9afd579734653b62eee02d523a6c0": {
          "model_module": "@jupyter-widgets/controls",
          "model_name": "HTMLModel",
          "model_module_version": "1.5.0",
          "state": {
            "_view_name": "HTMLView",
            "style": "IPY_MODEL_9e373a0368f5449187234feca7bcd0cb",
            "_dom_classes": [],
            "description": "",
            "_model_name": "HTMLModel",
            "placeholder": "​",
            "_view_module": "@jupyter-widgets/controls",
            "_model_module_version": "1.5.0",
            "value": "",
            "_view_count": null,
            "_view_module_version": "1.5.0",
            "description_tooltip": null,
            "_model_module": "@jupyter-widgets/controls",
            "layout": "IPY_MODEL_0465fc8de8224f61ae657d6881faba0c"
          }
        },
        "8184e06565c6446fa0af4a00a8996516": {
          "model_module": "@jupyter-widgets/controls",
          "model_name": "FloatProgressModel",
          "model_module_version": "1.5.0",
          "state": {
            "_view_name": "ProgressView",
            "style": "IPY_MODEL_3b0d90654aa346e98e95b68ebce6431a",
            "_dom_classes": [],
            "description": "",
            "_model_name": "FloatProgressModel",
            "bar_style": "success",
            "max": 26421880,
            "_view_module": "@jupyter-widgets/controls",
            "_model_module_version": "1.5.0",
            "value": 26421880,
            "_view_count": null,
            "_view_module_version": "1.5.0",
            "orientation": "horizontal",
            "min": 0,
            "description_tooltip": null,
            "_model_module": "@jupyter-widgets/controls",
            "layout": "IPY_MODEL_f48bab2adca745be873f6c0270d3780b"
          }
        },
        "9ac89ca4c6bf47edaa536ba0f98fcb2c": {
          "model_module": "@jupyter-widgets/controls",
          "model_name": "HTMLModel",
          "model_module_version": "1.5.0",
          "state": {
            "_view_name": "HTMLView",
            "style": "IPY_MODEL_4645d60bc69846fea32e29408e900cfe",
            "_dom_classes": [],
            "description": "",
            "_model_name": "HTMLModel",
            "placeholder": "​",
            "_view_module": "@jupyter-widgets/controls",
            "_model_module_version": "1.5.0",
            "value": " 26422272/? [00:02&lt;00:00, 17940935.27it/s]",
            "_view_count": null,
            "_view_module_version": "1.5.0",
            "description_tooltip": null,
            "_model_module": "@jupyter-widgets/controls",
            "layout": "IPY_MODEL_9aec28be918243d394eb8e84c2a3f7e6"
          }
        },
        "9e373a0368f5449187234feca7bcd0cb": {
          "model_module": "@jupyter-widgets/controls",
          "model_name": "DescriptionStyleModel",
          "model_module_version": "1.5.0",
          "state": {
            "_view_name": "StyleView",
            "_model_name": "DescriptionStyleModel",
            "description_width": "",
            "_view_module": "@jupyter-widgets/base",
            "_model_module_version": "1.5.0",
            "_view_count": null,
            "_view_module_version": "1.2.0",
            "_model_module": "@jupyter-widgets/controls"
          }
        },
        "0465fc8de8224f61ae657d6881faba0c": {
          "model_module": "@jupyter-widgets/base",
          "model_name": "LayoutModel",
          "model_module_version": "1.2.0",
          "state": {
            "_view_name": "LayoutView",
            "grid_template_rows": null,
            "right": null,
            "justify_content": null,
            "_view_module": "@jupyter-widgets/base",
            "overflow": null,
            "_model_module_version": "1.2.0",
            "_view_count": null,
            "flex_flow": null,
            "width": null,
            "min_width": null,
            "border": null,
            "align_items": null,
            "bottom": null,
            "_model_module": "@jupyter-widgets/base",
            "top": null,
            "grid_column": null,
            "overflow_y": null,
            "overflow_x": null,
            "grid_auto_flow": null,
            "grid_area": null,
            "grid_template_columns": null,
            "flex": null,
            "_model_name": "LayoutModel",
            "justify_items": null,
            "grid_row": null,
            "max_height": null,
            "align_content": null,
            "visibility": null,
            "align_self": null,
            "height": null,
            "min_height": null,
            "padding": null,
            "grid_auto_rows": null,
            "grid_gap": null,
            "max_width": null,
            "order": null,
            "_view_module_version": "1.2.0",
            "grid_template_areas": null,
            "object_position": null,
            "object_fit": null,
            "grid_auto_columns": null,
            "margin": null,
            "display": null,
            "left": null
          }
        },
        "3b0d90654aa346e98e95b68ebce6431a": {
          "model_module": "@jupyter-widgets/controls",
          "model_name": "ProgressStyleModel",
          "model_module_version": "1.5.0",
          "state": {
            "_view_name": "StyleView",
            "_model_name": "ProgressStyleModel",
            "description_width": "",
            "_view_module": "@jupyter-widgets/base",
            "_model_module_version": "1.5.0",
            "_view_count": null,
            "_view_module_version": "1.2.0",
            "bar_color": null,
            "_model_module": "@jupyter-widgets/controls"
          }
        },
        "f48bab2adca745be873f6c0270d3780b": {
          "model_module": "@jupyter-widgets/base",
          "model_name": "LayoutModel",
          "model_module_version": "1.2.0",
          "state": {
            "_view_name": "LayoutView",
            "grid_template_rows": null,
            "right": null,
            "justify_content": null,
            "_view_module": "@jupyter-widgets/base",
            "overflow": null,
            "_model_module_version": "1.2.0",
            "_view_count": null,
            "flex_flow": null,
            "width": null,
            "min_width": null,
            "border": null,
            "align_items": null,
            "bottom": null,
            "_model_module": "@jupyter-widgets/base",
            "top": null,
            "grid_column": null,
            "overflow_y": null,
            "overflow_x": null,
            "grid_auto_flow": null,
            "grid_area": null,
            "grid_template_columns": null,
            "flex": null,
            "_model_name": "LayoutModel",
            "justify_items": null,
            "grid_row": null,
            "max_height": null,
            "align_content": null,
            "visibility": null,
            "align_self": null,
            "height": null,
            "min_height": null,
            "padding": null,
            "grid_auto_rows": null,
            "grid_gap": null,
            "max_width": null,
            "order": null,
            "_view_module_version": "1.2.0",
            "grid_template_areas": null,
            "object_position": null,
            "object_fit": null,
            "grid_auto_columns": null,
            "margin": null,
            "display": null,
            "left": null
          }
        },
        "4645d60bc69846fea32e29408e900cfe": {
          "model_module": "@jupyter-widgets/controls",
          "model_name": "DescriptionStyleModel",
          "model_module_version": "1.5.0",
          "state": {
            "_view_name": "StyleView",
            "_model_name": "DescriptionStyleModel",
            "description_width": "",
            "_view_module": "@jupyter-widgets/base",
            "_model_module_version": "1.5.0",
            "_view_count": null,
            "_view_module_version": "1.2.0",
            "_model_module": "@jupyter-widgets/controls"
          }
        },
        "9aec28be918243d394eb8e84c2a3f7e6": {
          "model_module": "@jupyter-widgets/base",
          "model_name": "LayoutModel",
          "model_module_version": "1.2.0",
          "state": {
            "_view_name": "LayoutView",
            "grid_template_rows": null,
            "right": null,
            "justify_content": null,
            "_view_module": "@jupyter-widgets/base",
            "overflow": null,
            "_model_module_version": "1.2.0",
            "_view_count": null,
            "flex_flow": null,
            "width": null,
            "min_width": null,
            "border": null,
            "align_items": null,
            "bottom": null,
            "_model_module": "@jupyter-widgets/base",
            "top": null,
            "grid_column": null,
            "overflow_y": null,
            "overflow_x": null,
            "grid_auto_flow": null,
            "grid_area": null,
            "grid_template_columns": null,
            "flex": null,
            "_model_name": "LayoutModel",
            "justify_items": null,
            "grid_row": null,
            "max_height": null,
            "align_content": null,
            "visibility": null,
            "align_self": null,
            "height": null,
            "min_height": null,
            "padding": null,
            "grid_auto_rows": null,
            "grid_gap": null,
            "max_width": null,
            "order": null,
            "_view_module_version": "1.2.0",
            "grid_template_areas": null,
            "object_position": null,
            "object_fit": null,
            "grid_auto_columns": null,
            "margin": null,
            "display": null,
            "left": null
          }
        },
        "3f3aa94a1f9c42a3bea939dc1cf19227": {
          "model_module": "@jupyter-widgets/controls",
          "model_name": "HBoxModel",
          "model_module_version": "1.5.0",
          "state": {
            "_view_name": "HBoxView",
            "_dom_classes": [],
            "_model_name": "HBoxModel",
            "_view_module": "@jupyter-widgets/controls",
            "_model_module_version": "1.5.0",
            "_view_count": null,
            "_view_module_version": "1.5.0",
            "box_style": "",
            "layout": "IPY_MODEL_ef9b02a1295e40b9aedf21d2d53820ed",
            "_model_module": "@jupyter-widgets/controls",
            "children": [
              "IPY_MODEL_de2344ebc4d244ac8ed8c27a45a85b35",
              "IPY_MODEL_686c87ad5c354386957403cb211a0d74",
              "IPY_MODEL_a459f1f48be049a2a4bbedfe0ac82300"
            ]
          }
        },
        "ef9b02a1295e40b9aedf21d2d53820ed": {
          "model_module": "@jupyter-widgets/base",
          "model_name": "LayoutModel",
          "model_module_version": "1.2.0",
          "state": {
            "_view_name": "LayoutView",
            "grid_template_rows": null,
            "right": null,
            "justify_content": null,
            "_view_module": "@jupyter-widgets/base",
            "overflow": null,
            "_model_module_version": "1.2.0",
            "_view_count": null,
            "flex_flow": null,
            "width": null,
            "min_width": null,
            "border": null,
            "align_items": null,
            "bottom": null,
            "_model_module": "@jupyter-widgets/base",
            "top": null,
            "grid_column": null,
            "overflow_y": null,
            "overflow_x": null,
            "grid_auto_flow": null,
            "grid_area": null,
            "grid_template_columns": null,
            "flex": null,
            "_model_name": "LayoutModel",
            "justify_items": null,
            "grid_row": null,
            "max_height": null,
            "align_content": null,
            "visibility": null,
            "align_self": null,
            "height": null,
            "min_height": null,
            "padding": null,
            "grid_auto_rows": null,
            "grid_gap": null,
            "max_width": null,
            "order": null,
            "_view_module_version": "1.2.0",
            "grid_template_areas": null,
            "object_position": null,
            "object_fit": null,
            "grid_auto_columns": null,
            "margin": null,
            "display": null,
            "left": null
          }
        },
        "de2344ebc4d244ac8ed8c27a45a85b35": {
          "model_module": "@jupyter-widgets/controls",
          "model_name": "HTMLModel",
          "model_module_version": "1.5.0",
          "state": {
            "_view_name": "HTMLView",
            "style": "IPY_MODEL_3e7bc09cff324c13b2fb114fe8521b0b",
            "_dom_classes": [],
            "description": "",
            "_model_name": "HTMLModel",
            "placeholder": "​",
            "_view_module": "@jupyter-widgets/controls",
            "_model_module_version": "1.5.0",
            "value": "",
            "_view_count": null,
            "_view_module_version": "1.5.0",
            "description_tooltip": null,
            "_model_module": "@jupyter-widgets/controls",
            "layout": "IPY_MODEL_068a196d3ff64252ba2d4fee5f94fbdc"
          }
        },
        "686c87ad5c354386957403cb211a0d74": {
          "model_module": "@jupyter-widgets/controls",
          "model_name": "FloatProgressModel",
          "model_module_version": "1.5.0",
          "state": {
            "_view_name": "ProgressView",
            "style": "IPY_MODEL_5f7689e46cc44a968ecb71147eb978c3",
            "_dom_classes": [],
            "description": "",
            "_model_name": "FloatProgressModel",
            "bar_style": "success",
            "max": 29515,
            "_view_module": "@jupyter-widgets/controls",
            "_model_module_version": "1.5.0",
            "value": 29515,
            "_view_count": null,
            "_view_module_version": "1.5.0",
            "orientation": "horizontal",
            "min": 0,
            "description_tooltip": null,
            "_model_module": "@jupyter-widgets/controls",
            "layout": "IPY_MODEL_5f71015f500a4fba97addc455ecff17f"
          }
        },
        "a459f1f48be049a2a4bbedfe0ac82300": {
          "model_module": "@jupyter-widgets/controls",
          "model_name": "HTMLModel",
          "model_module_version": "1.5.0",
          "state": {
            "_view_name": "HTMLView",
            "style": "IPY_MODEL_ca238b0b94db485781f6724da2bd18e1",
            "_dom_classes": [],
            "description": "",
            "_model_name": "HTMLModel",
            "placeholder": "​",
            "_view_module": "@jupyter-widgets/controls",
            "_model_module_version": "1.5.0",
            "value": " 29696/? [00:00&lt;00:00, 84686.77it/s]",
            "_view_count": null,
            "_view_module_version": "1.5.0",
            "description_tooltip": null,
            "_model_module": "@jupyter-widgets/controls",
            "layout": "IPY_MODEL_8e288b0c501f4a73a1bf13abbe74be76"
          }
        },
        "3e7bc09cff324c13b2fb114fe8521b0b": {
          "model_module": "@jupyter-widgets/controls",
          "model_name": "DescriptionStyleModel",
          "model_module_version": "1.5.0",
          "state": {
            "_view_name": "StyleView",
            "_model_name": "DescriptionStyleModel",
            "description_width": "",
            "_view_module": "@jupyter-widgets/base",
            "_model_module_version": "1.5.0",
            "_view_count": null,
            "_view_module_version": "1.2.0",
            "_model_module": "@jupyter-widgets/controls"
          }
        },
        "068a196d3ff64252ba2d4fee5f94fbdc": {
          "model_module": "@jupyter-widgets/base",
          "model_name": "LayoutModel",
          "model_module_version": "1.2.0",
          "state": {
            "_view_name": "LayoutView",
            "grid_template_rows": null,
            "right": null,
            "justify_content": null,
            "_view_module": "@jupyter-widgets/base",
            "overflow": null,
            "_model_module_version": "1.2.0",
            "_view_count": null,
            "flex_flow": null,
            "width": null,
            "min_width": null,
            "border": null,
            "align_items": null,
            "bottom": null,
            "_model_module": "@jupyter-widgets/base",
            "top": null,
            "grid_column": null,
            "overflow_y": null,
            "overflow_x": null,
            "grid_auto_flow": null,
            "grid_area": null,
            "grid_template_columns": null,
            "flex": null,
            "_model_name": "LayoutModel",
            "justify_items": null,
            "grid_row": null,
            "max_height": null,
            "align_content": null,
            "visibility": null,
            "align_self": null,
            "height": null,
            "min_height": null,
            "padding": null,
            "grid_auto_rows": null,
            "grid_gap": null,
            "max_width": null,
            "order": null,
            "_view_module_version": "1.2.0",
            "grid_template_areas": null,
            "object_position": null,
            "object_fit": null,
            "grid_auto_columns": null,
            "margin": null,
            "display": null,
            "left": null
          }
        },
        "5f7689e46cc44a968ecb71147eb978c3": {
          "model_module": "@jupyter-widgets/controls",
          "model_name": "ProgressStyleModel",
          "model_module_version": "1.5.0",
          "state": {
            "_view_name": "StyleView",
            "_model_name": "ProgressStyleModel",
            "description_width": "",
            "_view_module": "@jupyter-widgets/base",
            "_model_module_version": "1.5.0",
            "_view_count": null,
            "_view_module_version": "1.2.0",
            "bar_color": null,
            "_model_module": "@jupyter-widgets/controls"
          }
        },
        "5f71015f500a4fba97addc455ecff17f": {
          "model_module": "@jupyter-widgets/base",
          "model_name": "LayoutModel",
          "model_module_version": "1.2.0",
          "state": {
            "_view_name": "LayoutView",
            "grid_template_rows": null,
            "right": null,
            "justify_content": null,
            "_view_module": "@jupyter-widgets/base",
            "overflow": null,
            "_model_module_version": "1.2.0",
            "_view_count": null,
            "flex_flow": null,
            "width": null,
            "min_width": null,
            "border": null,
            "align_items": null,
            "bottom": null,
            "_model_module": "@jupyter-widgets/base",
            "top": null,
            "grid_column": null,
            "overflow_y": null,
            "overflow_x": null,
            "grid_auto_flow": null,
            "grid_area": null,
            "grid_template_columns": null,
            "flex": null,
            "_model_name": "LayoutModel",
            "justify_items": null,
            "grid_row": null,
            "max_height": null,
            "align_content": null,
            "visibility": null,
            "align_self": null,
            "height": null,
            "min_height": null,
            "padding": null,
            "grid_auto_rows": null,
            "grid_gap": null,
            "max_width": null,
            "order": null,
            "_view_module_version": "1.2.0",
            "grid_template_areas": null,
            "object_position": null,
            "object_fit": null,
            "grid_auto_columns": null,
            "margin": null,
            "display": null,
            "left": null
          }
        },
        "ca238b0b94db485781f6724da2bd18e1": {
          "model_module": "@jupyter-widgets/controls",
          "model_name": "DescriptionStyleModel",
          "model_module_version": "1.5.0",
          "state": {
            "_view_name": "StyleView",
            "_model_name": "DescriptionStyleModel",
            "description_width": "",
            "_view_module": "@jupyter-widgets/base",
            "_model_module_version": "1.5.0",
            "_view_count": null,
            "_view_module_version": "1.2.0",
            "_model_module": "@jupyter-widgets/controls"
          }
        },
        "8e288b0c501f4a73a1bf13abbe74be76": {
          "model_module": "@jupyter-widgets/base",
          "model_name": "LayoutModel",
          "model_module_version": "1.2.0",
          "state": {
            "_view_name": "LayoutView",
            "grid_template_rows": null,
            "right": null,
            "justify_content": null,
            "_view_module": "@jupyter-widgets/base",
            "overflow": null,
            "_model_module_version": "1.2.0",
            "_view_count": null,
            "flex_flow": null,
            "width": null,
            "min_width": null,
            "border": null,
            "align_items": null,
            "bottom": null,
            "_model_module": "@jupyter-widgets/base",
            "top": null,
            "grid_column": null,
            "overflow_y": null,
            "overflow_x": null,
            "grid_auto_flow": null,
            "grid_area": null,
            "grid_template_columns": null,
            "flex": null,
            "_model_name": "LayoutModel",
            "justify_items": null,
            "grid_row": null,
            "max_height": null,
            "align_content": null,
            "visibility": null,
            "align_self": null,
            "height": null,
            "min_height": null,
            "padding": null,
            "grid_auto_rows": null,
            "grid_gap": null,
            "max_width": null,
            "order": null,
            "_view_module_version": "1.2.0",
            "grid_template_areas": null,
            "object_position": null,
            "object_fit": null,
            "grid_auto_columns": null,
            "margin": null,
            "display": null,
            "left": null
          }
        },
        "45e4f81c720544578a7c3dd7ce270e0a": {
          "model_module": "@jupyter-widgets/controls",
          "model_name": "HBoxModel",
          "model_module_version": "1.5.0",
          "state": {
            "_view_name": "HBoxView",
            "_dom_classes": [],
            "_model_name": "HBoxModel",
            "_view_module": "@jupyter-widgets/controls",
            "_model_module_version": "1.5.0",
            "_view_count": null,
            "_view_module_version": "1.5.0",
            "box_style": "",
            "layout": "IPY_MODEL_65d3b8be7d23401fb6714f2a71affb7a",
            "_model_module": "@jupyter-widgets/controls",
            "children": [
              "IPY_MODEL_1e978105a20242f5b066744d6054f517",
              "IPY_MODEL_d3eaf288242a44d995cc26c9cd727881",
              "IPY_MODEL_07e85a11dbda433ba91ecedd20de1172"
            ]
          }
        },
        "65d3b8be7d23401fb6714f2a71affb7a": {
          "model_module": "@jupyter-widgets/base",
          "model_name": "LayoutModel",
          "model_module_version": "1.2.0",
          "state": {
            "_view_name": "LayoutView",
            "grid_template_rows": null,
            "right": null,
            "justify_content": null,
            "_view_module": "@jupyter-widgets/base",
            "overflow": null,
            "_model_module_version": "1.2.0",
            "_view_count": null,
            "flex_flow": null,
            "width": null,
            "min_width": null,
            "border": null,
            "align_items": null,
            "bottom": null,
            "_model_module": "@jupyter-widgets/base",
            "top": null,
            "grid_column": null,
            "overflow_y": null,
            "overflow_x": null,
            "grid_auto_flow": null,
            "grid_area": null,
            "grid_template_columns": null,
            "flex": null,
            "_model_name": "LayoutModel",
            "justify_items": null,
            "grid_row": null,
            "max_height": null,
            "align_content": null,
            "visibility": null,
            "align_self": null,
            "height": null,
            "min_height": null,
            "padding": null,
            "grid_auto_rows": null,
            "grid_gap": null,
            "max_width": null,
            "order": null,
            "_view_module_version": "1.2.0",
            "grid_template_areas": null,
            "object_position": null,
            "object_fit": null,
            "grid_auto_columns": null,
            "margin": null,
            "display": null,
            "left": null
          }
        },
        "1e978105a20242f5b066744d6054f517": {
          "model_module": "@jupyter-widgets/controls",
          "model_name": "HTMLModel",
          "model_module_version": "1.5.0",
          "state": {
            "_view_name": "HTMLView",
            "style": "IPY_MODEL_d34f653ad5844b09b0e22378fe30675e",
            "_dom_classes": [],
            "description": "",
            "_model_name": "HTMLModel",
            "placeholder": "​",
            "_view_module": "@jupyter-widgets/controls",
            "_model_module_version": "1.5.0",
            "value": "",
            "_view_count": null,
            "_view_module_version": "1.5.0",
            "description_tooltip": null,
            "_model_module": "@jupyter-widgets/controls",
            "layout": "IPY_MODEL_07d2cc55d2ac480db7fca8fa7db86dad"
          }
        },
        "d3eaf288242a44d995cc26c9cd727881": {
          "model_module": "@jupyter-widgets/controls",
          "model_name": "FloatProgressModel",
          "model_module_version": "1.5.0",
          "state": {
            "_view_name": "ProgressView",
            "style": "IPY_MODEL_397ef5bebf1040418c3ef846e7f801df",
            "_dom_classes": [],
            "description": "",
            "_model_name": "FloatProgressModel",
            "bar_style": "success",
            "max": 4422102,
            "_view_module": "@jupyter-widgets/controls",
            "_model_module_version": "1.5.0",
            "value": 4422102,
            "_view_count": null,
            "_view_module_version": "1.5.0",
            "orientation": "horizontal",
            "min": 0,
            "description_tooltip": null,
            "_model_module": "@jupyter-widgets/controls",
            "layout": "IPY_MODEL_e7242ba9e7074bfab39062c6c36ec377"
          }
        },
        "07e85a11dbda433ba91ecedd20de1172": {
          "model_module": "@jupyter-widgets/controls",
          "model_name": "HTMLModel",
          "model_module_version": "1.5.0",
          "state": {
            "_view_name": "HTMLView",
            "style": "IPY_MODEL_c803bd19d24c44b0977ffa240f775b04",
            "_dom_classes": [],
            "description": "",
            "_model_name": "HTMLModel",
            "placeholder": "​",
            "_view_module": "@jupyter-widgets/controls",
            "_model_module_version": "1.5.0",
            "value": " 4422656/? [00:01&lt;00:00, 6445774.73it/s]",
            "_view_count": null,
            "_view_module_version": "1.5.0",
            "description_tooltip": null,
            "_model_module": "@jupyter-widgets/controls",
            "layout": "IPY_MODEL_88df0c8a972f4fee8250662a05cbec69"
          }
        },
        "d34f653ad5844b09b0e22378fe30675e": {
          "model_module": "@jupyter-widgets/controls",
          "model_name": "DescriptionStyleModel",
          "model_module_version": "1.5.0",
          "state": {
            "_view_name": "StyleView",
            "_model_name": "DescriptionStyleModel",
            "description_width": "",
            "_view_module": "@jupyter-widgets/base",
            "_model_module_version": "1.5.0",
            "_view_count": null,
            "_view_module_version": "1.2.0",
            "_model_module": "@jupyter-widgets/controls"
          }
        },
        "07d2cc55d2ac480db7fca8fa7db86dad": {
          "model_module": "@jupyter-widgets/base",
          "model_name": "LayoutModel",
          "model_module_version": "1.2.0",
          "state": {
            "_view_name": "LayoutView",
            "grid_template_rows": null,
            "right": null,
            "justify_content": null,
            "_view_module": "@jupyter-widgets/base",
            "overflow": null,
            "_model_module_version": "1.2.0",
            "_view_count": null,
            "flex_flow": null,
            "width": null,
            "min_width": null,
            "border": null,
            "align_items": null,
            "bottom": null,
            "_model_module": "@jupyter-widgets/base",
            "top": null,
            "grid_column": null,
            "overflow_y": null,
            "overflow_x": null,
            "grid_auto_flow": null,
            "grid_area": null,
            "grid_template_columns": null,
            "flex": null,
            "_model_name": "LayoutModel",
            "justify_items": null,
            "grid_row": null,
            "max_height": null,
            "align_content": null,
            "visibility": null,
            "align_self": null,
            "height": null,
            "min_height": null,
            "padding": null,
            "grid_auto_rows": null,
            "grid_gap": null,
            "max_width": null,
            "order": null,
            "_view_module_version": "1.2.0",
            "grid_template_areas": null,
            "object_position": null,
            "object_fit": null,
            "grid_auto_columns": null,
            "margin": null,
            "display": null,
            "left": null
          }
        },
        "397ef5bebf1040418c3ef846e7f801df": {
          "model_module": "@jupyter-widgets/controls",
          "model_name": "ProgressStyleModel",
          "model_module_version": "1.5.0",
          "state": {
            "_view_name": "StyleView",
            "_model_name": "ProgressStyleModel",
            "description_width": "",
            "_view_module": "@jupyter-widgets/base",
            "_model_module_version": "1.5.0",
            "_view_count": null,
            "_view_module_version": "1.2.0",
            "bar_color": null,
            "_model_module": "@jupyter-widgets/controls"
          }
        },
        "e7242ba9e7074bfab39062c6c36ec377": {
          "model_module": "@jupyter-widgets/base",
          "model_name": "LayoutModel",
          "model_module_version": "1.2.0",
          "state": {
            "_view_name": "LayoutView",
            "grid_template_rows": null,
            "right": null,
            "justify_content": null,
            "_view_module": "@jupyter-widgets/base",
            "overflow": null,
            "_model_module_version": "1.2.0",
            "_view_count": null,
            "flex_flow": null,
            "width": null,
            "min_width": null,
            "border": null,
            "align_items": null,
            "bottom": null,
            "_model_module": "@jupyter-widgets/base",
            "top": null,
            "grid_column": null,
            "overflow_y": null,
            "overflow_x": null,
            "grid_auto_flow": null,
            "grid_area": null,
            "grid_template_columns": null,
            "flex": null,
            "_model_name": "LayoutModel",
            "justify_items": null,
            "grid_row": null,
            "max_height": null,
            "align_content": null,
            "visibility": null,
            "align_self": null,
            "height": null,
            "min_height": null,
            "padding": null,
            "grid_auto_rows": null,
            "grid_gap": null,
            "max_width": null,
            "order": null,
            "_view_module_version": "1.2.0",
            "grid_template_areas": null,
            "object_position": null,
            "object_fit": null,
            "grid_auto_columns": null,
            "margin": null,
            "display": null,
            "left": null
          }
        },
        "c803bd19d24c44b0977ffa240f775b04": {
          "model_module": "@jupyter-widgets/controls",
          "model_name": "DescriptionStyleModel",
          "model_module_version": "1.5.0",
          "state": {
            "_view_name": "StyleView",
            "_model_name": "DescriptionStyleModel",
            "description_width": "",
            "_view_module": "@jupyter-widgets/base",
            "_model_module_version": "1.5.0",
            "_view_count": null,
            "_view_module_version": "1.2.0",
            "_model_module": "@jupyter-widgets/controls"
          }
        },
        "88df0c8a972f4fee8250662a05cbec69": {
          "model_module": "@jupyter-widgets/base",
          "model_name": "LayoutModel",
          "model_module_version": "1.2.0",
          "state": {
            "_view_name": "LayoutView",
            "grid_template_rows": null,
            "right": null,
            "justify_content": null,
            "_view_module": "@jupyter-widgets/base",
            "overflow": null,
            "_model_module_version": "1.2.0",
            "_view_count": null,
            "flex_flow": null,
            "width": null,
            "min_width": null,
            "border": null,
            "align_items": null,
            "bottom": null,
            "_model_module": "@jupyter-widgets/base",
            "top": null,
            "grid_column": null,
            "overflow_y": null,
            "overflow_x": null,
            "grid_auto_flow": null,
            "grid_area": null,
            "grid_template_columns": null,
            "flex": null,
            "_model_name": "LayoutModel",
            "justify_items": null,
            "grid_row": null,
            "max_height": null,
            "align_content": null,
            "visibility": null,
            "align_self": null,
            "height": null,
            "min_height": null,
            "padding": null,
            "grid_auto_rows": null,
            "grid_gap": null,
            "max_width": null,
            "order": null,
            "_view_module_version": "1.2.0",
            "grid_template_areas": null,
            "object_position": null,
            "object_fit": null,
            "grid_auto_columns": null,
            "margin": null,
            "display": null,
            "left": null
          }
        },
        "441527c9a0b443d2b61ecd22830ce4bf": {
          "model_module": "@jupyter-widgets/controls",
          "model_name": "HBoxModel",
          "model_module_version": "1.5.0",
          "state": {
            "_view_name": "HBoxView",
            "_dom_classes": [],
            "_model_name": "HBoxModel",
            "_view_module": "@jupyter-widgets/controls",
            "_model_module_version": "1.5.0",
            "_view_count": null,
            "_view_module_version": "1.5.0",
            "box_style": "",
            "layout": "IPY_MODEL_6d234914c8f145eeb287c9fc68f3a41a",
            "_model_module": "@jupyter-widgets/controls",
            "children": [
              "IPY_MODEL_17830ef73e5d48a0b258ae8030fd1685",
              "IPY_MODEL_8532d4ed897947f0b918dc17750b762d",
              "IPY_MODEL_4e7162f7223d4b69a8a4e0e9730b60aa"
            ]
          }
        },
        "6d234914c8f145eeb287c9fc68f3a41a": {
          "model_module": "@jupyter-widgets/base",
          "model_name": "LayoutModel",
          "model_module_version": "1.2.0",
          "state": {
            "_view_name": "LayoutView",
            "grid_template_rows": null,
            "right": null,
            "justify_content": null,
            "_view_module": "@jupyter-widgets/base",
            "overflow": null,
            "_model_module_version": "1.2.0",
            "_view_count": null,
            "flex_flow": null,
            "width": null,
            "min_width": null,
            "border": null,
            "align_items": null,
            "bottom": null,
            "_model_module": "@jupyter-widgets/base",
            "top": null,
            "grid_column": null,
            "overflow_y": null,
            "overflow_x": null,
            "grid_auto_flow": null,
            "grid_area": null,
            "grid_template_columns": null,
            "flex": null,
            "_model_name": "LayoutModel",
            "justify_items": null,
            "grid_row": null,
            "max_height": null,
            "align_content": null,
            "visibility": null,
            "align_self": null,
            "height": null,
            "min_height": null,
            "padding": null,
            "grid_auto_rows": null,
            "grid_gap": null,
            "max_width": null,
            "order": null,
            "_view_module_version": "1.2.0",
            "grid_template_areas": null,
            "object_position": null,
            "object_fit": null,
            "grid_auto_columns": null,
            "margin": null,
            "display": null,
            "left": null
          }
        },
        "17830ef73e5d48a0b258ae8030fd1685": {
          "model_module": "@jupyter-widgets/controls",
          "model_name": "HTMLModel",
          "model_module_version": "1.5.0",
          "state": {
            "_view_name": "HTMLView",
            "style": "IPY_MODEL_6ccc61cb306b402abe4bb4adf3ae5691",
            "_dom_classes": [],
            "description": "",
            "_model_name": "HTMLModel",
            "placeholder": "​",
            "_view_module": "@jupyter-widgets/controls",
            "_model_module_version": "1.5.0",
            "value": "",
            "_view_count": null,
            "_view_module_version": "1.5.0",
            "description_tooltip": null,
            "_model_module": "@jupyter-widgets/controls",
            "layout": "IPY_MODEL_d82c21c87083432c920a17e4c7d9f270"
          }
        },
        "8532d4ed897947f0b918dc17750b762d": {
          "model_module": "@jupyter-widgets/controls",
          "model_name": "FloatProgressModel",
          "model_module_version": "1.5.0",
          "state": {
            "_view_name": "ProgressView",
            "style": "IPY_MODEL_8485b891760c4f90bd6176a819699ffb",
            "_dom_classes": [],
            "description": "",
            "_model_name": "FloatProgressModel",
            "bar_style": "success",
            "max": 5148,
            "_view_module": "@jupyter-widgets/controls",
            "_model_module_version": "1.5.0",
            "value": 5148,
            "_view_count": null,
            "_view_module_version": "1.5.0",
            "orientation": "horizontal",
            "min": 0,
            "description_tooltip": null,
            "_model_module": "@jupyter-widgets/controls",
            "layout": "IPY_MODEL_5cf0e21716ad4b998297f345dd24fbab"
          }
        },
        "4e7162f7223d4b69a8a4e0e9730b60aa": {
          "model_module": "@jupyter-widgets/controls",
          "model_name": "HTMLModel",
          "model_module_version": "1.5.0",
          "state": {
            "_view_name": "HTMLView",
            "style": "IPY_MODEL_ffb2e8277dee4af0b5c0643f6ad906ae",
            "_dom_classes": [],
            "description": "",
            "_model_name": "HTMLModel",
            "placeholder": "​",
            "_view_module": "@jupyter-widgets/controls",
            "_model_module_version": "1.5.0",
            "value": " 6144/? [00:00&lt;00:00, 240870.80it/s]",
            "_view_count": null,
            "_view_module_version": "1.5.0",
            "description_tooltip": null,
            "_model_module": "@jupyter-widgets/controls",
            "layout": "IPY_MODEL_6cbe3646cf5d461eadf7715e6b6c88e3"
          }
        },
        "6ccc61cb306b402abe4bb4adf3ae5691": {
          "model_module": "@jupyter-widgets/controls",
          "model_name": "DescriptionStyleModel",
          "model_module_version": "1.5.0",
          "state": {
            "_view_name": "StyleView",
            "_model_name": "DescriptionStyleModel",
            "description_width": "",
            "_view_module": "@jupyter-widgets/base",
            "_model_module_version": "1.5.0",
            "_view_count": null,
            "_view_module_version": "1.2.0",
            "_model_module": "@jupyter-widgets/controls"
          }
        },
        "d82c21c87083432c920a17e4c7d9f270": {
          "model_module": "@jupyter-widgets/base",
          "model_name": "LayoutModel",
          "model_module_version": "1.2.0",
          "state": {
            "_view_name": "LayoutView",
            "grid_template_rows": null,
            "right": null,
            "justify_content": null,
            "_view_module": "@jupyter-widgets/base",
            "overflow": null,
            "_model_module_version": "1.2.0",
            "_view_count": null,
            "flex_flow": null,
            "width": null,
            "min_width": null,
            "border": null,
            "align_items": null,
            "bottom": null,
            "_model_module": "@jupyter-widgets/base",
            "top": null,
            "grid_column": null,
            "overflow_y": null,
            "overflow_x": null,
            "grid_auto_flow": null,
            "grid_area": null,
            "grid_template_columns": null,
            "flex": null,
            "_model_name": "LayoutModel",
            "justify_items": null,
            "grid_row": null,
            "max_height": null,
            "align_content": null,
            "visibility": null,
            "align_self": null,
            "height": null,
            "min_height": null,
            "padding": null,
            "grid_auto_rows": null,
            "grid_gap": null,
            "max_width": null,
            "order": null,
            "_view_module_version": "1.2.0",
            "grid_template_areas": null,
            "object_position": null,
            "object_fit": null,
            "grid_auto_columns": null,
            "margin": null,
            "display": null,
            "left": null
          }
        },
        "8485b891760c4f90bd6176a819699ffb": {
          "model_module": "@jupyter-widgets/controls",
          "model_name": "ProgressStyleModel",
          "model_module_version": "1.5.0",
          "state": {
            "_view_name": "StyleView",
            "_model_name": "ProgressStyleModel",
            "description_width": "",
            "_view_module": "@jupyter-widgets/base",
            "_model_module_version": "1.5.0",
            "_view_count": null,
            "_view_module_version": "1.2.0",
            "bar_color": null,
            "_model_module": "@jupyter-widgets/controls"
          }
        },
        "5cf0e21716ad4b998297f345dd24fbab": {
          "model_module": "@jupyter-widgets/base",
          "model_name": "LayoutModel",
          "model_module_version": "1.2.0",
          "state": {
            "_view_name": "LayoutView",
            "grid_template_rows": null,
            "right": null,
            "justify_content": null,
            "_view_module": "@jupyter-widgets/base",
            "overflow": null,
            "_model_module_version": "1.2.0",
            "_view_count": null,
            "flex_flow": null,
            "width": null,
            "min_width": null,
            "border": null,
            "align_items": null,
            "bottom": null,
            "_model_module": "@jupyter-widgets/base",
            "top": null,
            "grid_column": null,
            "overflow_y": null,
            "overflow_x": null,
            "grid_auto_flow": null,
            "grid_area": null,
            "grid_template_columns": null,
            "flex": null,
            "_model_name": "LayoutModel",
            "justify_items": null,
            "grid_row": null,
            "max_height": null,
            "align_content": null,
            "visibility": null,
            "align_self": null,
            "height": null,
            "min_height": null,
            "padding": null,
            "grid_auto_rows": null,
            "grid_gap": null,
            "max_width": null,
            "order": null,
            "_view_module_version": "1.2.0",
            "grid_template_areas": null,
            "object_position": null,
            "object_fit": null,
            "grid_auto_columns": null,
            "margin": null,
            "display": null,
            "left": null
          }
        },
        "ffb2e8277dee4af0b5c0643f6ad906ae": {
          "model_module": "@jupyter-widgets/controls",
          "model_name": "DescriptionStyleModel",
          "model_module_version": "1.5.0",
          "state": {
            "_view_name": "StyleView",
            "_model_name": "DescriptionStyleModel",
            "description_width": "",
            "_view_module": "@jupyter-widgets/base",
            "_model_module_version": "1.5.0",
            "_view_count": null,
            "_view_module_version": "1.2.0",
            "_model_module": "@jupyter-widgets/controls"
          }
        },
        "6cbe3646cf5d461eadf7715e6b6c88e3": {
          "model_module": "@jupyter-widgets/base",
          "model_name": "LayoutModel",
          "model_module_version": "1.2.0",
          "state": {
            "_view_name": "LayoutView",
            "grid_template_rows": null,
            "right": null,
            "justify_content": null,
            "_view_module": "@jupyter-widgets/base",
            "overflow": null,
            "_model_module_version": "1.2.0",
            "_view_count": null,
            "flex_flow": null,
            "width": null,
            "min_width": null,
            "border": null,
            "align_items": null,
            "bottom": null,
            "_model_module": "@jupyter-widgets/base",
            "top": null,
            "grid_column": null,
            "overflow_y": null,
            "overflow_x": null,
            "grid_auto_flow": null,
            "grid_area": null,
            "grid_template_columns": null,
            "flex": null,
            "_model_name": "LayoutModel",
            "justify_items": null,
            "grid_row": null,
            "max_height": null,
            "align_content": null,
            "visibility": null,
            "align_self": null,
            "height": null,
            "min_height": null,
            "padding": null,
            "grid_auto_rows": null,
            "grid_gap": null,
            "max_width": null,
            "order": null,
            "_view_module_version": "1.2.0",
            "grid_template_areas": null,
            "object_position": null,
            "object_fit": null,
            "grid_auto_columns": null,
            "margin": null,
            "display": null,
            "left": null
          }
        }
      }
    }
  },
  "cells": [
    {
      "cell_type": "code",
      "metadata": {
        "id": "yAL28cDr87Y5"
      },
      "source": [
        "# graph 문제를 풀기 위한 torch, compuet vision문제를 보다 쉽게 해결할 수 있는 모듈인 torchvision import\n",
        "import random\n",
        "import numpy as np\n",
        "import torch\n",
        "import torch.nn as nn\n",
        "from torch.utils.data import DataLoader\n",
        "from torchvision import datasets\n",
        "from torchvision.transforms import ToTensor, Compose\n",
        "import torch.nn.functional as F"
      ],
      "execution_count": null,
      "outputs": []
    },
    {
      "cell_type": "code",
      "metadata": {
        "id": "_tT4keor9RPk"
      },
      "source": [
        "def set_manual_seed(seed=42):\n",
        "  \"\"\"\n",
        "    난수 발생시 고정된 난수를 발생시키기 위해 python local package\n",
        "    random, numpy (다차원의 메트릭을 다루기위환 package), pytorch\n",
        "    seed를 고정하는 function 입니다.\n",
        "  \"\"\"\n",
        "  random.seed(seed)\n",
        "  np.random.seed(seed)\n",
        "  torch.manual_seed(seed)\n",
        "  torch.cuda.manual_seed(seed)\n",
        "  torch.cuda.manual_seed_all(seed)\n",
        "set_manual_seed()"
      ],
      "execution_count": null,
      "outputs": []
    },
    {
      "cell_type": "code",
      "metadata": {
        "colab": {
          "base_uri": "https://localhost:8080/",
          "height": 471,
          "referenced_widgets": [
            "33177cf869a541feba830e93983a0944",
            "bc8fe7a4c6e7416387893a188bd20e5d",
            "1bb9afd579734653b62eee02d523a6c0",
            "8184e06565c6446fa0af4a00a8996516",
            "9ac89ca4c6bf47edaa536ba0f98fcb2c",
            "9e373a0368f5449187234feca7bcd0cb",
            "0465fc8de8224f61ae657d6881faba0c",
            "3b0d90654aa346e98e95b68ebce6431a",
            "f48bab2adca745be873f6c0270d3780b",
            "4645d60bc69846fea32e29408e900cfe",
            "9aec28be918243d394eb8e84c2a3f7e6",
            "3f3aa94a1f9c42a3bea939dc1cf19227",
            "ef9b02a1295e40b9aedf21d2d53820ed",
            "de2344ebc4d244ac8ed8c27a45a85b35",
            "686c87ad5c354386957403cb211a0d74",
            "a459f1f48be049a2a4bbedfe0ac82300",
            "3e7bc09cff324c13b2fb114fe8521b0b",
            "068a196d3ff64252ba2d4fee5f94fbdc",
            "5f7689e46cc44a968ecb71147eb978c3",
            "5f71015f500a4fba97addc455ecff17f",
            "ca238b0b94db485781f6724da2bd18e1",
            "8e288b0c501f4a73a1bf13abbe74be76",
            "45e4f81c720544578a7c3dd7ce270e0a",
            "65d3b8be7d23401fb6714f2a71affb7a",
            "1e978105a20242f5b066744d6054f517",
            "d3eaf288242a44d995cc26c9cd727881",
            "07e85a11dbda433ba91ecedd20de1172",
            "d34f653ad5844b09b0e22378fe30675e",
            "07d2cc55d2ac480db7fca8fa7db86dad",
            "397ef5bebf1040418c3ef846e7f801df",
            "e7242ba9e7074bfab39062c6c36ec377",
            "c803bd19d24c44b0977ffa240f775b04",
            "88df0c8a972f4fee8250662a05cbec69",
            "441527c9a0b443d2b61ecd22830ce4bf",
            "6d234914c8f145eeb287c9fc68f3a41a",
            "17830ef73e5d48a0b258ae8030fd1685",
            "8532d4ed897947f0b918dc17750b762d",
            "4e7162f7223d4b69a8a4e0e9730b60aa",
            "6ccc61cb306b402abe4bb4adf3ae5691",
            "d82c21c87083432c920a17e4c7d9f270",
            "8485b891760c4f90bd6176a819699ffb",
            "5cf0e21716ad4b998297f345dd24fbab",
            "ffb2e8277dee4af0b5c0643f6ad906ae",
            "6cbe3646cf5d461eadf7715e6b6c88e3"
          ]
        },
        "id": "TybyAznV9VNW",
        "outputId": "f5bfa1b2-49e8-4aa1-a0ec-e6ac186da07f"
      },
      "source": [
        "batch_size = 128\n",
        "train_loader = torch.utils.data.DataLoader(\n",
        "    datasets.FashionMNIST('data', \n",
        "                   train=True, \n",
        "                   download=True,\n",
        "                   transform=Compose([ToTensor()])),\n",
        "                   batch_size=batch_size, \n",
        "                   shuffle=True)\n",
        "\n",
        "test_loader = torch.utils.data.DataLoader(\n",
        "    datasets.FashionMNIST('data', \n",
        "                   train=False, \n",
        "                   download=True,\n",
        "                   transform=Compose([ToTensor()])),\n",
        "                   batch_size=batch_size, \n",
        "                   shuffle=False)"
      ],
      "execution_count": null,
      "outputs": [
        {
          "output_type": "stream",
          "text": [
            "Downloading http://fashion-mnist.s3-website.eu-central-1.amazonaws.com/train-images-idx3-ubyte.gz\n",
            "Downloading http://fashion-mnist.s3-website.eu-central-1.amazonaws.com/train-images-idx3-ubyte.gz to data/FashionMNIST/raw/train-images-idx3-ubyte.gz\n"
          ],
          "name": "stdout"
        },
        {
          "output_type": "display_data",
          "data": {
            "application/vnd.jupyter.widget-view+json": {
              "model_id": "33177cf869a541feba830e93983a0944",
              "version_minor": 0,
              "version_major": 2
            },
            "text/plain": [
              "  0%|          | 0/26421880 [00:00<?, ?it/s]"
            ]
          },
          "metadata": {}
        },
        {
          "output_type": "stream",
          "text": [
            "Extracting data/FashionMNIST/raw/train-images-idx3-ubyte.gz to data/FashionMNIST/raw\n",
            "\n",
            "Downloading http://fashion-mnist.s3-website.eu-central-1.amazonaws.com/train-labels-idx1-ubyte.gz\n",
            "Downloading http://fashion-mnist.s3-website.eu-central-1.amazonaws.com/train-labels-idx1-ubyte.gz to data/FashionMNIST/raw/train-labels-idx1-ubyte.gz\n"
          ],
          "name": "stdout"
        },
        {
          "output_type": "display_data",
          "data": {
            "application/vnd.jupyter.widget-view+json": {
              "model_id": "3f3aa94a1f9c42a3bea939dc1cf19227",
              "version_minor": 0,
              "version_major": 2
            },
            "text/plain": [
              "  0%|          | 0/29515 [00:00<?, ?it/s]"
            ]
          },
          "metadata": {}
        },
        {
          "output_type": "stream",
          "text": [
            "Extracting data/FashionMNIST/raw/train-labels-idx1-ubyte.gz to data/FashionMNIST/raw\n",
            "\n",
            "Downloading http://fashion-mnist.s3-website.eu-central-1.amazonaws.com/t10k-images-idx3-ubyte.gz\n",
            "Downloading http://fashion-mnist.s3-website.eu-central-1.amazonaws.com/t10k-images-idx3-ubyte.gz to data/FashionMNIST/raw/t10k-images-idx3-ubyte.gz\n"
          ],
          "name": "stdout"
        },
        {
          "output_type": "display_data",
          "data": {
            "application/vnd.jupyter.widget-view+json": {
              "model_id": "45e4f81c720544578a7c3dd7ce270e0a",
              "version_minor": 0,
              "version_major": 2
            },
            "text/plain": [
              "  0%|          | 0/4422102 [00:00<?, ?it/s]"
            ]
          },
          "metadata": {}
        },
        {
          "output_type": "stream",
          "text": [
            "Extracting data/FashionMNIST/raw/t10k-images-idx3-ubyte.gz to data/FashionMNIST/raw\n",
            "\n",
            "Downloading http://fashion-mnist.s3-website.eu-central-1.amazonaws.com/t10k-labels-idx1-ubyte.gz\n",
            "Downloading http://fashion-mnist.s3-website.eu-central-1.amazonaws.com/t10k-labels-idx1-ubyte.gz to data/FashionMNIST/raw/t10k-labels-idx1-ubyte.gz\n"
          ],
          "name": "stdout"
        },
        {
          "output_type": "display_data",
          "data": {
            "application/vnd.jupyter.widget-view+json": {
              "model_id": "441527c9a0b443d2b61ecd22830ce4bf",
              "version_minor": 0,
              "version_major": 2
            },
            "text/plain": [
              "  0%|          | 0/5148 [00:00<?, ?it/s]"
            ]
          },
          "metadata": {}
        },
        {
          "output_type": "stream",
          "text": [
            "Extracting data/FashionMNIST/raw/t10k-labels-idx1-ubyte.gz to data/FashionMNIST/raw\n",
            "\n"
          ],
          "name": "stdout"
        },
        {
          "output_type": "stream",
          "text": [
            "/usr/local/lib/python3.7/dist-packages/torchvision/datasets/mnist.py:498: UserWarning: The given NumPy array is not writeable, and PyTorch does not support non-writeable tensors. This means you can write to the underlying (supposedly non-writeable) NumPy array using the tensor. You may want to copy the array to protect its data or make it writeable before converting it to a tensor. This type of warning will be suppressed for the rest of this program. (Triggered internally at  /pytorch/torch/csrc/utils/tensor_numpy.cpp:180.)\n",
            "  return torch.from_numpy(parsed.astype(m[2], copy=False)).view(*s)\n"
          ],
          "name": "stderr"
        }
      ]
    },
    {
      "cell_type": "code",
      "metadata": {
        "id": "TWs8JAYy-n3L"
      },
      "source": [
        "\"\"\"\n",
        "    HyperParameters\n",
        "\"\"\"\n",
        "num_epochs = 2\n",
        "device = 'cuda' if torch.cuda.is_available() else 'cpu'\n",
        "lr = 1e-3"
      ],
      "execution_count": null,
      "outputs": []
    },
    {
      "cell_type": "code",
      "metadata": {
        "id": "Hc5ek44b_a7x"
      },
      "source": [
        "\"\"\"\n",
        "    Operation:\n",
        "    - Convoltuon 2D (width, height) 이미지의 특징을 보다 잘 찾아내기 위해\n",
        "    - MaxPooling 2D (width, height) 잘 찾아진 특징을 풀링을 통해서 가장 큰 값만 얻어내기 위한 기법\n",
        "    - ReLU (Activation function) 비선형 함수\n",
        "    - Dropout (random drop out => features) 오버핏팅을 피하기 위한 기법\n",
        "\"\"\"\n",
        "class ConvoltuonNeuralNet(nn.Module):\n",
        "    def __init__(self):\n",
        "        super(ConvoltuonNeuralNet, self).__init__()\n",
        "\n",
        "        self.feature_extraction = nn.Sequential(\n",
        "            nn.Conv2d(1, 10, kernel_size=5),\n",
        "            nn.MaxPool2d(2),\n",
        "            nn.ReLU(),\n",
        "            nn.Conv2d(10, 20, kernel_size=5),\n",
        "            nn.Dropout(),\n",
        "            nn.MaxPool2d(2),\n",
        "            nn.ReLU(),\n",
        "        )\n",
        "        self.fully_connected = nn.Sequential(\n",
        "            nn.Linear(320, 50),\n",
        "            nn.ReLU(),\n",
        "            nn.Dropout(),\n",
        "            nn.Linear(50, 10),\n",
        "            nn.Softmax(dim=1)\n",
        "        )\n",
        "\n",
        "    def forward(self, x):\n",
        "        x = self.feature_extraction(x)\n",
        "        # print(f'feature extraction size: {x.size()}')\n",
        "        x = x.view(-1, 320)\n",
        "        # print(f'transfrom size: {x.size()}')\n",
        "        x = self.fully_connected(x)\n",
        "\n",
        "        return x"
      ],
      "execution_count": null,
      "outputs": []
    },
    {
      "cell_type": "markdown",
      "metadata": {
        "id": "jGmJjHmFIypD"
      },
      "source": [
        "model = ConvoltuonNeuralNet().to(device)\n",
        "input_image = torch.rand((1, 1, 28, 28)).to(device)\n",
        "y = model(input_image)"
      ]
    },
    {
      "cell_type": "code",
      "metadata": {
        "colab": {
          "base_uri": "https://localhost:8080/"
        },
        "id": "UXxTtp5ELOYK",
        "outputId": "4c19b427-c99a-4164-e06c-5363ea21c219"
      },
      "source": [
        "model = ConvoltuonNeuralNet().to(device)\n",
        "input_image = torch.rand((1, 1, 28, 28)).to(device)\n",
        "y = model(input_image)"
      ],
      "execution_count": null,
      "outputs": [
        {
          "output_type": "stream",
          "text": [
            "/usr/local/lib/python3.7/dist-packages/torch/nn/functional.py:718: UserWarning: Named tensors and all their associated APIs are an experimental feature and subject to change. Please do not use them for anything important until they are released as stable. (Triggered internally at  /pytorch/c10/core/TensorImpl.h:1156.)\n",
            "  return torch.max_pool2d(input, kernel_size, stride, padding, dilation, ceil_mode)\n"
          ],
          "name": "stderr"
        }
      ]
    },
    {
      "cell_type": "code",
      "metadata": {
        "colab": {
          "base_uri": "https://localhost:8080/"
        },
        "id": "R7dkHiJnLMQM",
        "outputId": "b180e1f7-09f2-4d99-bc3c-7954c05d96c4"
      },
      "source": [
        "print(y)\n",
        "optim = torch.optim.SGD(model.parameters(), lr=lr, momentum=0.5)"
      ],
      "execution_count": null,
      "outputs": [
        {
          "output_type": "stream",
          "text": [
            "tensor([[0.0985, 0.0909, 0.0871, 0.0958, 0.1076, 0.1002, 0.1095, 0.1082, 0.1084,\n",
            "         0.0937]], device='cuda:0', grad_fn=<SoftmaxBackward>)\n"
          ],
          "name": "stdout"
        }
      ]
    },
    {
      "cell_type": "code",
      "metadata": {
        "id": "ou_gWRUGLgiw"
      },
      "source": [
        "loss_bucket = []\n",
        "def train_op(model, device, train_loader, optim, epoch):\n",
        "    model.train()\n",
        "    for batch_idx, (input_train_images, input_train_labels) in enumerate(train_loader):\n",
        "        input_train_images, input_train_labels = input_train_images.to(device), input_train_labels.to(device)\n",
        "\n",
        "        optim.zero_grad()\n",
        "        \"\"\"\n",
        "          y: 부추라고 생각해\n",
        "        \"\"\"\n",
        "        y = model(input_train_images)\n",
        "        \"\"\"\n",
        "            정답과 예측한 값을 비교한뒤 맞으면 0 틀리면 1\n",
        "        \"\"\"\n",
        "        loss = F.nll_loss(y.log(), input_train_labels)\n",
        "        \"\"\"\n",
        "            결과를 다시 전달해준다\n",
        "        \"\"\"\n",
        "        loss.backward()\n",
        "        optim.step()\n",
        "        loss_bucket.append(loss.item())\n",
        "        if batch_idx % 100 == 0:\n",
        "            print(f'Convoltuion Training Loss: {loss.item():.4f}')\n",
        "            \n",
        "\n",
        "def test_op(model, device, test_loader):\n",
        "    model.eval()\n",
        "    test_loss, correct = 0, 0\n",
        "    with torch.no_grad():\n",
        "        for input_test_images, input_test_labels in test_loader:\n",
        "            input_test_images, input_test_labels = input_test_images.to(device), input_test_labels.to(device)\n",
        "            output = model(input_test_images)\n",
        "            test_loss += F.nll_loss(output.log(), input_test_labels).item()\n",
        "            pred = output.max(1, keepdim=True)[1]\n",
        "            correct += pred.eq(input_test_labels.view_as(pred)).sum().item()\n",
        "\n",
        "    test_loss /= len(test_loader.dataset)\n",
        "    accuracy = (correct / len(test_loader.dataset)) * 100\n",
        "    print(f'convoltuion test loss: {test_loss}, acc: {accuracy}')"
      ],
      "execution_count": null,
      "outputs": []
    },
    {
      "cell_type": "code",
      "metadata": {
        "colab": {
          "base_uri": "https://localhost:8080/"
        },
        "id": "TiU0ksp-M8c-",
        "outputId": "da152c52-fe4b-4b4d-feae-e4b3b152bc09"
      },
      "source": [
        "for epoch in range(num_epochs):\n",
        "    train_op(model=model, device=device, train_loader=train_loader, optim=optim, epoch=epoch)\n",
        "    test_op(model = model, device = device, test_loader=test_loader)"
      ],
      "execution_count": null,
      "outputs": [
        {
          "output_type": "stream",
          "text": [
            "Convoltuion Training Loss: 1.4933\n",
            "Convoltuion Training Loss: 1.2460\n",
            "Convoltuion Training Loss: 1.1821\n",
            "Convoltuion Training Loss: 1.1386\n",
            "Convoltuion Training Loss: 1.0768\n",
            "convoltuion test loss: 0.009088065308332444, acc: 65.3\n",
            "Convoltuion Training Loss: 1.1995\n",
            "Convoltuion Training Loss: 1.1476\n",
            "Convoltuion Training Loss: 1.1754\n",
            "Convoltuion Training Loss: 0.9279\n",
            "Convoltuion Training Loss: 0.9880\n",
            "convoltuion test loss: 0.008763805001974106, acc: 67.17\n"
          ],
          "name": "stdout"
        }
      ]
    },
    {
      "cell_type": "code",
      "metadata": {
        "colab": {
          "base_uri": "https://localhost:8080/"
        },
        "id": "hNG4q-wDbbfd",
        "outputId": "251290fc-1637-41cb-c5b0-638aaf8a6f03"
      },
      "source": [
        "import matplotlib.pyplot as plt\n",
        "print(loss_bucket)"
      ],
      "execution_count": null,
      "outputs": [
        {
          "output_type": "stream",
          "text": [
            "[2.315998077392578, 2.2911019325256348, 2.3000659942626953, 2.311326026916504, 2.2982563972473145, 2.3080217838287354, 2.303345203399658, 2.3018810749053955, 2.3047804832458496, 2.3048624992370605, 2.312417507171631, 2.3129794597625732, 2.299179792404175, 2.31795072555542, 2.3032097816467285, 2.3226094245910645, 2.307903289794922, 2.304741621017456, 2.3008828163146973, 2.2984957695007324, 2.293522357940674, 2.3084614276885986, 2.313241720199585, 2.3017144203186035, 2.292879343032837, 2.301858901977539, 2.3040788173675537, 2.3121063709259033, 2.3091719150543213, 2.314875364303589, 2.299997329711914, 2.2977206707000732, 2.3115575313568115, 2.3085432052612305, 2.3065667152404785, 2.3073933124542236, 2.3057403564453125, 2.3138527870178223, 2.3185033798217773, 2.2983157634735107, 2.3110876083374023, 2.300412178039551, 2.2987890243530273, 2.3002891540527344, 2.295532703399658, 2.299225330352783, 2.2980120182037354, 2.3054654598236084, 2.3027052879333496, 2.310798168182373, 2.3025240898132324, 2.3072619438171387, 2.2945592403411865, 2.309272050857544, 2.300124168395996, 2.30325984954834, 2.309260606765747, 2.3035213947296143, 2.3094680309295654, 2.301591396331787, 2.2963194847106934, 2.3066325187683105, 2.297182083129883, 2.308452606201172, 2.3005661964416504, 2.3049964904785156, 2.30800199508667, 2.3020851612091064, 2.321913003921509, 2.2952029705047607, 2.3081319332122803, 2.288064479827881, 2.3032634258270264, 2.308805465698242, 2.3032615184783936, 2.295450210571289, 2.2901644706726074, 2.3003132343292236, 2.316373825073242, 2.2950479984283447, 2.305412769317627, 2.2992758750915527, 2.3015620708465576, 2.308314800262451, 2.303839921951294, 2.304914951324463, 2.306713104248047, 2.2986743450164795, 2.304255485534668, 2.3010010719299316, 2.3047564029693604, 2.2902402877807617, 2.302783966064453, 2.309067726135254, 2.2896595001220703, 2.2953360080718994, 2.2915499210357666, 2.2991859912872314, 2.3039841651916504, 2.3049416542053223, 2.29713773727417, 2.2990775108337402, 2.303882598876953, 2.2997918128967285, 2.2959816455841064, 2.2956056594848633, 2.290944814682007, 2.2929182052612305, 2.3022854328155518, 2.299044370651245, 2.2947001457214355, 2.2955493927001953, 2.3081014156341553, 2.287055730819702, 2.286935806274414, 2.30423903465271, 2.304776906967163, 2.3072798252105713, 2.2824981212615967, 2.2924344539642334, 2.3017287254333496, 2.2937798500061035, 2.307274103164673, 2.3036115169525146, 2.3003909587860107, 2.3007071018218994, 2.3096823692321777, 2.2893295288085938, 2.291093349456787, 2.291962146759033, 2.2953717708587646, 2.2952358722686768, 2.2853832244873047, 2.2996084690093994, 2.2999770641326904, 2.2989916801452637, 2.3050220012664795, 2.2915117740631104, 2.2950499057769775, 2.3107481002807617, 2.309218645095825, 2.2984888553619385, 2.304478883743286, 2.3034329414367676, 2.294170379638672, 2.2957751750946045, 2.2904279232025146, 2.295397996902466, 2.3020052909851074, 2.3074774742126465, 2.292680501937866, 2.2908377647399902, 2.2994296550750732, 2.3022661209106445, 2.300534248352051, 2.28912091255188, 2.2799854278564453, 2.290792226791382, 2.2913317680358887, 2.298586845397949, 2.286177635192871, 2.2954251766204834, 2.2973995208740234, 2.3026070594787598, 2.3071858882904053, 2.303590774536133, 2.299983501434326, 2.289384126663208, 2.2939445972442627, 2.2893030643463135, 2.295393705368042, 2.295257806777954, 2.3021445274353027, 2.2882802486419678, 2.307710647583008, 2.301856517791748, 2.291391134262085, 2.2784104347229004, 2.293602228164673, 2.302569627761841, 2.2963955402374268, 2.2936089038848877, 2.296182632446289, 2.290489435195923, 2.283123254776001, 2.295299768447876, 2.3009064197540283, 2.3001902103424072, 2.297339916229248, 2.297804594039917, 2.30608868598938, 2.305051803588867, 2.2952489852905273, 2.292084217071533, 2.2957801818847656, 2.3081774711608887, 2.305567502975464, 2.2908871173858643, 2.287700653076172, 2.298527717590332, 2.297959566116333, 2.2939274311065674, 2.2850382328033447, 2.298442840576172, 2.2815887928009033, 2.2967710494995117, 2.291879177093506, 2.29683518409729, 2.283531427383423, 2.292224884033203, 2.2873454093933105, 2.2849109172821045, 2.2956783771514893, 2.282240629196167, 2.300898313522339, 2.2874410152435303, 2.287231922149658, 2.2885262966156006, 2.308903932571411, 2.2923412322998047, 2.298168659210205, 2.305710554122925, 2.301527261734009, 2.2959015369415283, 2.2921173572540283, 2.278994560241699, 2.307321310043335, 2.2819318771362305, 2.291275978088379, 2.289024829864502, 2.291034460067749, 2.2925353050231934, 2.2886855602264404, 2.3119232654571533, 2.295351505279541, 2.295980930328369, 2.292771816253662, 2.2945051193237305, 2.2905547618865967, 2.2861788272857666, 2.2960216999053955, 2.2930173873901367, 2.2929091453552246, 2.3010547161102295, 2.2869651317596436, 2.2966866493225098, 2.291334390640259, 2.2897210121154785, 2.2947373390197754, 2.2993290424346924, 2.287888526916504, 2.2927443981170654, 2.2990548610687256, 2.2980620861053467, 2.3015809059143066, 2.291076421737671, 2.287386655807495, 2.3014588356018066, 2.282463312149048, 2.289952039718628, 2.2964890003204346, 2.2836740016937256, 2.288342237472534, 2.28786301612854, 2.2890498638153076, 2.2994022369384766, 2.298915147781372, 2.296633005142212, 2.3003764152526855, 2.295227289199829, 2.2849862575531006, 2.2986629009246826, 2.295706272125244, 2.29608416557312, 2.2973809242248535, 2.2906649112701416, 2.2908334732055664, 2.2883946895599365, 2.281676769256592, 2.2911689281463623, 2.2914414405822754, 2.278343677520752, 2.295626401901245, 2.2964420318603516, 2.2991957664489746, 2.2906837463378906, 2.288708209991455, 2.2920095920562744, 2.279615640640259, 2.2778031826019287, 2.295050859451294, 2.2925033569335938, 2.2915380001068115, 2.286182165145874, 2.2936716079711914, 2.280198335647583, 2.299499988555908, 2.2899765968322754, 2.284923553466797, 2.289125919342041, 2.285672187805176, 2.289844036102295, 2.301996946334839, 2.287616729736328, 2.2871334552764893, 2.288827657699585, 2.2823221683502197, 2.2873408794403076, 2.276892900466919, 2.271613359451294, 2.297013998031616, 2.2830216884613037, 2.2910478115081787, 2.297625780105591, 2.279423952102661, 2.2983603477478027, 2.301193952560425, 2.2990198135375977, 2.287055492401123, 2.29443359375, 2.2871382236480713, 2.2748167514801025, 2.298816680908203, 2.297102928161621, 2.275616407394409, 2.278209686279297, 2.277418613433838, 2.2909438610076904, 2.286875009536743, 2.2837014198303223, 2.297093391418457, 2.2888898849487305, 2.2911343574523926, 2.27555775642395, 2.2897515296936035, 2.284510374069214, 2.2858951091766357, 2.2844533920288086, 2.2850191593170166, 2.2878623008728027, 2.2859482765197754, 2.2942519187927246, 2.293940305709839, 2.276034355163574, 2.2845101356506348, 2.282292604446411, 2.2897603511810303, 2.2873432636260986, 2.2894790172576904, 2.295685291290283, 2.2911453247070312, 2.2930407524108887, 2.2880730628967285, 2.2815754413604736, 2.29512095451355, 2.3040590286254883, 2.272296667098999, 2.289419174194336, 2.273787498474121, 2.2844529151916504, 2.2985754013061523, 2.3046162128448486, 2.269054889678955, 2.2733161449432373, 2.2904953956604004, 2.2844021320343018, 2.2762808799743652, 2.2764437198638916, 2.2841291427612305, 2.296400785446167, 2.27787446975708, 2.2878804206848145, 2.287933111190796, 2.294403314590454, 2.2790138721466064, 2.285407781600952, 2.2973365783691406, 2.2765634059906006, 2.2932627201080322, 2.280667543411255, 2.288810968399048, 2.2814581394195557, 2.2846755981445312, 2.2893309593200684, 2.2886288166046143, 2.287360906600952, 2.295182704925537, 2.2864933013916016, 2.2894227504730225, 2.2951459884643555, 2.290065050125122, 2.296659469604492, 2.2825472354888916, 2.2717928886413574, 2.287749767303467, 2.2835004329681396, 2.2873423099517822, 2.2808871269226074, 2.2721400260925293, 2.276867151260376, 2.2813682556152344, 2.2728271484375, 2.2888388633728027, 2.2922189235687256, 2.2749505043029785, 2.287702798843384, 2.2890310287475586, 2.2837891578674316, 2.2959225177764893, 2.2746903896331787, 2.2774243354797363, 2.282565116882324, 2.2680840492248535, 2.293799638748169, 2.290449380874634, 2.283839225769043, 2.266305923461914, 2.292691707611084, 2.287689685821533, 2.2753610610961914, 2.283756732940674, 2.290369749069214, 2.294954538345337, 2.2760705947875977, 2.289884090423584, 2.277115821838379, 2.2753443717956543, 2.2870829105377197, 2.281032085418701, 2.2836267948150635, 2.288949489593506, 2.2727432250976562, 2.2766499519348145, 2.276094913482666, 2.2806146144866943, 2.285576105117798, 2.2912840843200684, 2.2741174697875977, 2.282310724258423, 2.2721059322357178, 2.2751007080078125, 2.284367561340332, 2.2668509483337402, 2.279956102371216, 2.2761895656585693, 2.279010057449341, 2.2934844493865967, 2.2828245162963867, 2.2687430381774902, 2.2852394580841064, 2.2915308475494385, 2.2914066314697266, 2.2809481620788574, 2.275212049484253, 2.2861735820770264, 2.2821223735809326, 2.277554512023926, 2.2811014652252197, 2.280261516571045, 2.2939352989196777, 2.2625362873077393, 2.2571353912353516, 2.2821242809295654, 2.282418966293335, 2.2882049083709717, 2.278717517852783, 2.2558531761169434, 2.2746636867523193, 2.2829227447509766, 2.2791593074798584, 2.2694523334503174, 2.2646665573120117, 2.27154541015625, 2.2800655364990234, 2.299231767654419, 2.2774927616119385, 2.2501394748687744, 2.283212184906006, 2.289116382598877, 2.271040916442871, 2.2906582355499268, 2.2806780338287354, 2.262129545211792, 2.2734949588775635, 2.2684221267700195, 2.279162883758545, 2.2683281898498535, 2.277973175048828, 2.277395486831665, 2.277482032775879, 2.278968572616577, 2.2772858142852783, 2.2726404666900635, 2.2884199619293213, 2.268754482269287, 2.2773141860961914, 2.2761874198913574, 2.262939214706421, 2.2797939777374268, 2.272615432739258, 2.2786412239074707, 2.26523756980896, 2.275446891784668, 2.277522325515747, 2.2585015296936035, 2.279426336288452, 2.272402763366699, 2.284250020980835, 2.2690553665161133, 2.273015260696411, 2.269958019256592, 2.275552749633789, 2.2729923725128174, 2.2859935760498047, 2.2749228477478027, 2.2791593074798584, 2.290250301361084, 2.271974563598633, 2.2734215259552, 2.271918296813965, 2.282625675201416, 2.2740440368652344, 2.2675633430480957, 2.275254487991333, 2.2916717529296875, 2.2758874893188477, 2.262058734893799, 2.278874397277832, 2.275169849395752, 2.276747941970825, 2.276376724243164, 2.270899534225464, 2.27217173576355, 2.286022663116455, 2.278012275695801, 2.2689340114593506, 2.246917724609375, 2.2705841064453125, 2.285186767578125, 2.277240514755249, 2.26557993888855, 2.2874391078948975, 2.2714242935180664, 2.2703845500946045, 2.2748026847839355, 2.277407169342041, 2.2679996490478516, 2.2589285373687744, 2.2862701416015625, 2.2693355083465576, 2.2673568725585938, 2.272491693496704, 2.262911558151245, 2.292039394378662, 2.2730538845062256, 2.2676801681518555, 2.261904239654541, 2.2723731994628906, 2.2769815921783447, 2.2572851181030273, 2.2772834300994873, 2.2407381534576416, 2.2732410430908203, 2.2705533504486084, 2.2761495113372803, 2.2659549713134766, 2.2783215045928955, 2.2562808990478516, 2.2737224102020264, 2.274549722671509, 2.2656853199005127, 2.2792701721191406, 2.271432399749756, 2.2591872215270996, 2.265221118927002, 2.2617809772491455, 2.260054111480713, 2.262927532196045, 2.2458441257476807, 2.26936411857605, 2.2615017890930176, 2.270352602005005, 2.263603925704956, 2.2489867210388184, 2.2542312145233154, 2.2619998455047607, 2.268263339996338, 2.272944450378418, 2.2569527626037598, 2.261265993118286, 2.2676331996917725, 2.2583470344543457, 2.248591661453247, 2.2580249309539795, 2.260910987854004, 2.2631995677948, 2.268089532852173, 2.256344795227051, 2.2643587589263916, 2.2510251998901367, 2.2656009197235107, 2.2544405460357666, 2.2645649909973145, 2.245342969894409, 2.2694292068481445, 2.262608051300049, 2.2534048557281494, 2.2528038024902344, 2.262781858444214, 2.278195381164551, 2.2547287940979004, 2.2649874687194824, 2.2552008628845215, 2.259808301925659, 2.264127731323242, 2.257761001586914, 2.2662880420684814, 2.2681565284729004, 2.264702320098877, 2.247931957244873, 2.261568069458008, 2.251054286956787, 2.2749249935150146, 2.244673728942871, 2.2592597007751465, 2.2641212940216064, 2.253918170928955, 2.2230310440063477, 2.262408494949341, 2.2494494915008545, 2.249730110168457, 2.265228271484375, 2.2742457389831543, 2.2534165382385254, 2.2568798065185547, 2.253748893737793, 2.259979248046875, 2.285766839981079, 2.2480053901672363, 2.241464614868164, 2.263258934020996, 2.260984182357788, 2.2430148124694824, 2.2652080059051514, 2.262115240097046, 2.2692313194274902, 2.24289608001709, 2.2745251655578613, 2.2605199813842773, 2.2621071338653564, 2.270005226135254, 2.2480180263519287, 2.2491214275360107, 2.2527737617492676, 2.248812437057495, 2.2495267391204834, 2.244680166244507, 2.2344400882720947, 2.268131971359253, 2.2712814807891846, 2.2471790313720703, 2.277662754058838, 2.2543044090270996, 2.2457237243652344, 2.2590725421905518, 2.251966953277588, 2.254991292953491, 2.235952854156494, 2.2689626216888428, 2.2488701343536377, 2.260725736618042, 2.25089955329895, 2.255390167236328, 2.2460737228393555, 2.241044521331787, 2.2601535320281982, 2.256310224533081, 2.254892349243164, 2.2472169399261475, 2.239487409591675, 2.256730794906616, 2.2267751693725586, 2.237600326538086, 2.243788719177246, 2.261671304702759, 2.265211820602417, 2.2407641410827637, 2.248264789581299, 2.2558748722076416, 2.233776569366455, 2.276374101638794, 2.242141008377075, 2.2454981803894043, 2.2428009510040283, 2.240576982498169, 2.2492101192474365, 2.2345032691955566, 2.2370681762695312, 2.245105504989624, 2.2450108528137207, 2.2501161098480225, 2.2399911880493164, 2.2172276973724365, 2.2423243522644043, 2.243330240249634, 2.2287726402282715, 2.266353130340576, 2.251180410385132, 2.2560224533081055, 2.230877637863159, 2.2495975494384766, 2.2384557723999023, 2.2613730430603027, 2.2434301376342773, 2.2474749088287354, 2.2488884925842285, 2.231757164001465, 2.240844488143921, 2.236858367919922, 2.2417397499084473, 2.2126383781433105, 2.233339786529541, 2.2488391399383545, 2.2183589935302734, 2.244462490081787, 2.249467372894287, 2.2255616188049316, 2.219958543777466, 2.2070159912109375, 2.220618963241577, 2.2581474781036377, 2.2470128536224365, 2.24234676361084, 2.2166621685028076, 2.251309394836426, 2.2446959018707275, 2.2370448112487793, 2.216928482055664, 2.2063417434692383, 2.2331647872924805, 2.261483669281006, 2.2271835803985596, 2.2142109870910645, 2.2278568744659424, 2.2224228382110596, 2.231473684310913, 2.236069917678833, 2.252822160720825, 2.2306506633758545, 2.2222743034362793, 2.230543375015259, 2.238658905029297, 2.246351718902588, 2.2340521812438965, 2.2308552265167236, 2.244486093521118, 2.226944923400879, 2.227186679840088, 2.240739345550537, 2.2274415493011475, 2.2217252254486084, 2.2183640003204346, 2.240919589996338, 2.2338685989379883, 2.225965976715088, 2.209045886993408, 2.218256950378418, 2.223684310913086, 2.2422263622283936, 2.2338967323303223, 2.252852439880371, 2.2296674251556396, 2.251732349395752, 2.2248058319091797, 2.2223050594329834, 2.240741014480591, 2.2136058807373047, 2.2307989597320557, 2.2283811569213867, 2.2161898612976074, 2.2354824542999268, 2.206425905227661, 2.2278554439544678, 2.2295498847961426, 2.2091124057769775, 2.2091779708862305, 2.2297523021698, 2.2331109046936035, 2.227259874343872, 2.244978904724121, 2.2289059162139893, 2.2181777954101562, 2.213838815689087, 2.2230405807495117, 2.2201404571533203, 2.222367763519287, 2.2139275074005127, 2.251565456390381, 2.2268311977386475, 2.252375602722168, 2.2486824989318848, 2.239398241043091, 2.197986364364624, 2.217437982559204, 2.1960349082946777, 2.242673873901367, 2.1827783584594727, 2.2043988704681396, 2.234367609024048, 2.2002224922180176, 2.1988019943237305, 2.2376017570495605, 2.209683895111084, 2.205575704574585, 2.224722146987915, 2.2063465118408203, 2.199864387512207, 2.2239017486572266, 2.229863405227661, 2.2371060848236084, 2.186847448348999, 2.222217559814453, 2.222181558609009, 2.1976375579833984, 2.2211174964904785, 2.1951019763946533, 2.221461772918701, 2.19978666305542, 2.2311370372772217, 2.215794324874878, 2.1892142295837402, 2.196214199066162, 2.1957623958587646, 2.2082157135009766, 2.213052272796631, 2.1967036724090576, 2.2090821266174316, 2.1986074447631836, 2.2027649879455566, 2.2130746841430664, 2.1955223083496094, 2.222029447555542, 2.225618839263916, 2.2200582027435303, 2.1933867931365967, 2.1999809741973877, 2.198838233947754, 2.1987218856811523, 2.2288007736206055, 2.2031936645507812, 2.182107925415039, 2.1976823806762695, 2.18876314163208, 2.20389723777771, 2.222174882888794, 2.195592164993286, 2.208829879760742, 2.2239785194396973, 2.185346841812134, 2.168257713317871, 2.1933412551879883, 2.1870338916778564, 2.172351360321045, 2.181823253631592, 2.2004284858703613, 2.195983648300171, 2.183809280395508, 2.2090811729431152, 2.195553779602051, 2.1882853507995605, 2.1748130321502686, 2.197927951812744, 2.1980984210968018, 2.1891651153564453, 2.1716196537017822, 2.2197651863098145, 2.179637908935547, 2.2066080570220947, 2.1898159980773926, 2.21712589263916, 2.1623592376708984, 2.146665334701538, 2.1973776817321777, 2.189358711242676, 2.200721025466919, 2.169358968734741, 2.160534620285034, 2.145461320877075, 2.2139151096343994, 2.1840732097625732, 2.1655139923095703, 2.2081902027130127, 2.1754748821258545, 2.2002604007720947, 2.154813051223755, 2.1527059078216553, 2.175943374633789, 2.1781697273254395, 2.1910948753356934, 2.1823601722717285, 2.153111457824707, 2.1819663047790527, 2.181767463684082, 2.1990978717803955, 2.20059871673584, 2.1723849773406982, 2.183807134628296, 2.160400152206421, 2.1702566146850586, 2.1636571884155273, 2.140944719314575, 2.1678385734558105, 2.1703574657440186, 2.16652512550354, 2.1822712421417236, 2.1731128692626953, 2.1593658924102783, 2.1968438625335693, 2.209338665008545, 2.17322039604187, 2.1429409980773926, 2.203596830368042, 2.1589155197143555, 2.17779278755188, 2.202440023422241, 2.151848554611206, 2.142029285430908, 2.13604474067688, 2.152585744857788, 2.1693997383117676, 2.1758627891540527, 2.1447341442108154, 2.139781951904297, 2.1675186157226562, 2.153350591659546, 2.163555383682251, 2.1535871028900146, 2.162195920944214, 2.1379892826080322, 2.1410036087036133, 2.1710867881774902, 2.1678929328918457, 2.185559034347534, 2.1690521240234375, 2.152630567550659, 2.1252002716064453, 2.1414196491241455, 2.1258013248443604, 2.1542036533355713, 2.104283094406128, 2.171004295349121, 2.13718843460083, 2.170969247817993, 2.156499147415161, 2.149171829223633, 2.1202962398529053, 2.092771291732788, 2.1086788177490234, 2.130401611328125, 2.158566951751709, 2.1184442043304443, 2.159611701965332, 2.1291825771331787, 2.097381591796875, 2.11215877532959, 2.1169354915618896, 2.1572976112365723, 2.0948071479797363, 2.111586093902588, 2.1040289402008057, 2.112868547439575, 2.1444664001464844, 2.0797643661499023, 2.1179540157318115, 2.1207263469696045, 2.1338210105895996, 2.1383683681488037, 2.1201016902923584, 2.106077194213867, 2.140920400619507, 2.1323354244232178, 2.0981273651123047, 2.123701572418213, 2.139098882675171, 2.161123275756836, 2.1144161224365234, 2.1143856048583984, 2.152207136154175, 2.076183795928955, 2.1154632568359375, 2.113729238510132, 2.076965570449829, 2.110830545425415, 2.1092710494995117, 2.1577351093292236, 2.131723642349243, 2.0795669555664062, 2.13120436668396, 2.0939013957977295, 2.1031010150909424, 2.0678861141204834, 2.0879013538360596, 2.113271713256836, 2.0934126377105713, 2.110839366912842, 2.0665535926818848, 2.1063790321350098, 2.074202299118042, 2.0925745964050293, 2.1191768646240234, 2.092648506164551, 2.073707342147827, 2.097533941268921, 2.0619874000549316, 2.1418726444244385, 2.1266374588012695, 2.0740108489990234, 2.096344232559204, 2.1431984901428223, 2.070425510406494, 2.103641986846924, 2.0778720378875732, 2.102246046066284, 2.053520679473877, 2.0796399116516113, 2.0641708374023438, 2.0880112648010254, 2.0496089458465576, 2.077444553375244, 2.0946736335754395, 2.0187532901763916, 2.0483057498931885, 2.0958361625671387, 2.0667388439178467, 2.0777459144592285, 2.1034765243530273, 2.0506601333618164, 2.063786029815674, 2.1096980571746826, 2.0242409706115723, 2.16030216217041, 2.0447804927825928, 2.023716688156128, 2.077561378479004, 2.095884323120117, 2.0821330547332764, 2.081502914428711, 2.078964948654175, 2.0494189262390137, 2.092945098876953, 2.0762507915496826, 2.0851778984069824, 2.055835008621216, 2.079515218734741, 2.085538387298584, 2.010786533355713, 2.067599296569824, 2.087949514389038, 2.0608956813812256, 2.0513155460357666, 2.058788537979126, 2.059468984603882, 2.091525077819824, 2.090689182281494, 2.083436965942383, 2.0634469985961914, 2.0490596294403076, 2.0972487926483154, 2.0471584796905518, 2.0661027431488037, 2.047574758529663, 2.0488038063049316, 2.073286771774292, 2.0906622409820557, 2.059644937515259, 2.0860178470611572, 2.0368125438690186, 1.957737922668457, 2.0358214378356934, 2.03293514251709, 2.0221619606018066, 2.0307183265686035, 2.0675318241119385, 2.0423266887664795, 2.0422017574310303, 2.0023136138916016, 2.0035057067871094, 2.013037919998169, 2.0001683235168457, 2.035813808441162, 2.0813028812408447, 2.0322887897491455, 2.0675573348999023, 1.9956837892532349, 1.9643375873565674, 2.0020956993103027, 1.9998518228530884, 1.9453651905059814, 2.0330843925476074, 1.9783397912979126, 1.9819272756576538, 2.0111875534057617, 1.9876559972763062, 1.993666648864746, 1.982926607131958, 2.0209858417510986, 2.035134792327881, 2.030730962753296, 1.9799978733062744, 2.028798818588257, 1.9719769954681396, 2.0139153003692627, 2.0672407150268555, 2.0164504051208496, 1.993047833442688, 1.9958010911941528, 2.0147390365600586, 1.9901342391967773, 1.9574528932571411, 2.016356945037842, 1.9894633293151855, 1.9888039827346802, 1.9535672664642334, 2.001377582550049, 1.9026522636413574, 1.998910903930664, 1.9510035514831543, 1.9905368089675903, 2.0165579319000244, 1.9931669235229492, 1.964509129524231, 1.9334361553192139, 1.9884053468704224, 1.964697003364563, 2.012554407119751, 1.964830756187439, 1.967160701751709, 1.9636540412902832, 1.9632577896118164, 1.9188436269760132, 2.0432207584381104, 1.9686002731323242, 2.0325634479522705, 1.9910919666290283, 2.0460007190704346, 1.9486196041107178, 2.019134998321533, 1.9638392925262451, 1.9917163848876953, 2.0396928787231445, 1.9561567306518555, 1.997826099395752, 1.9418108463287354, 1.9807376861572266, 1.985026478767395, 1.9443511962890625, 1.980472207069397, 1.9594937562942505, 1.9126064777374268, 1.9494554996490479, 1.9965509176254272, 1.9564446210861206, 1.8789730072021484, 1.964689016342163, 1.8932877779006958, 1.9431335926055908, 1.9633738994598389, 1.9291207790374756, 1.9637588262557983, 1.9290205240249634, 2.010721445083618, 2.013043165206909, 1.9682443141937256, 1.9255447387695312, 1.9400455951690674, 1.9608042240142822, 1.9507278203964233, 1.886218547821045, 2.0351970195770264, 1.8969205617904663, 1.9500840902328491, 1.9470200538635254, 1.917494535446167, 1.9651868343353271, 1.8629603385925293, 1.9208953380584717, 1.8744765520095825, 1.8504149913787842, 1.8432952165603638, 1.9115592241287231, 1.884865403175354, 1.8681108951568604, 1.8627692461013794, 1.893603801727295, 1.866984486579895, 1.9353859424591064, 1.8895753622055054, 1.8834506273269653, 1.9247279167175293, 1.9177240133285522, 1.9071592092514038, 1.922234058380127, 1.9086229801177979, 1.9470789432525635, 1.8449854850769043, 1.8991670608520508, 1.9174613952636719, 1.8164691925048828, 1.8738971948623657, 1.8988860845565796, 1.9144618511199951, 1.8830183744430542, 1.8522087335586548, 1.8883988857269287, 1.8902390003204346, 1.9426466226577759, 1.8402117490768433, 1.8715624809265137, 1.9610170125961304, 1.8379789590835571, 1.9233838319778442, 1.8633073568344116, 1.9340322017669678, 1.7644619941711426, 1.8316547870635986, 1.8080147504806519, 1.8745861053466797, 1.8840802907943726, 1.9208974838256836, 1.883374810218811, 1.8837543725967407, 1.865663766860962, 1.8397276401519775, 1.8722450733184814, 1.8275747299194336, 1.8677337169647217, 1.8118406534194946, 1.8435204029083252, 1.8606922626495361, 1.9512265920639038, 1.8735164403915405, 1.9355013370513916, 1.7779473066329956, 1.8016067743301392, 1.8033192157745361, 1.8967329263687134, 1.9113985300064087, 1.8056453466415405, 1.7401859760284424, 1.8597755432128906, 1.9028186798095703, 1.8872475624084473, 1.818718433380127, 1.7974495887756348, 1.8654005527496338, 1.7790769338607788, 1.7462754249572754, 1.8860729932785034, 1.8650792837142944, 1.8832778930664062, 1.8479405641555786, 1.7940436601638794, 1.88437819480896, 1.7110350131988525, 1.767307162284851, 1.8097065687179565, 1.914505124092102, 1.8444435596466064, 1.799817442893982, 1.8058239221572876, 1.8299514055252075, 1.77265465259552, 1.818373203277588, 1.8108514547348022, 1.8256568908691406, 1.8694432973861694, 1.8599014282226562, 1.8197734355926514, 1.8875590562820435, 1.8136826753616333, 1.6944833993911743, 1.7757031917572021, 1.8525253534317017, 1.7325371503829956, 1.7898809909820557, 1.839115858078003, 1.8034954071044922, 1.7637224197387695, 1.7830623388290405, 1.6713974475860596, 1.762650489807129, 1.8282806873321533, 1.8079978227615356, 1.7591625452041626, 1.7904198169708252, 1.733068823814392, 1.8019431829452515, 1.7310901880264282, 1.8776377439498901, 1.7881369590759277, 1.7655237913131714, 1.7633389234542847, 1.7845020294189453, 1.6845647096633911, 1.7825220823287964, 1.793514609336853, 1.9488273859024048, 1.7150795459747314, 1.697144865989685, 1.7343517541885376, 1.749572515487671, 1.6639899015426636, 1.8615845441818237, 1.707196593284607, 1.7875947952270508, 1.806697130203247, 1.8084043264389038, 1.7207492589950562, 1.7766703367233276, 1.7419424057006836, 1.7537366151809692, 1.758797526359558, 1.866962194442749, 1.7998707294464111, 1.850772500038147, 1.7368680238723755, 1.7197482585906982, 1.747253179550171, 1.7812631130218506, 1.8368966579437256, 1.7491860389709473, 1.7472593784332275, 1.8506721258163452, 1.790479302406311, 1.59613037109375, 1.7128286361694336, 1.8411587476730347, 1.642263412475586, 1.6779340505599976, 1.6433898210525513, 1.761230707168579, 1.7628649473190308, 1.7157529592514038, 1.7111849784851074, 1.670987606048584, 1.7108001708984375, 1.8199870586395264, 1.7371418476104736, 1.8153342008590698, 1.7339963912963867, 1.7362301349639893, 1.8502416610717773, 1.7969290018081665, 1.7386114597320557, 1.7160565853118896, 1.6375812292099, 1.7374119758605957, 1.54728102684021, 1.7334376573562622, 1.7583270072937012, 1.7872549295425415, 1.882514238357544, 1.7707010507583618, 1.750151515007019, 1.7224937677383423, 1.6094682216644287, 1.712342619895935, 1.7368638515472412, 1.7819277048110962, 1.6549128293991089, 1.7363288402557373, 1.7251560688018799, 1.684590458869934, 1.7825058698654175, 1.640630841255188, 1.7039668560028076, 1.6258301734924316, 1.6851110458374023, 1.6595323085784912, 1.6772584915161133, 1.6878708600997925, 1.6624356508255005, 1.673597812652588, 1.6632014513015747, 1.692061424255371, 1.6634678840637207, 1.663586139678955, 1.674884557723999, 1.6927509307861328, 1.643586277961731, 1.6898424625396729, 1.754156470298767, 1.690199613571167, 1.7190978527069092, 1.6782914400100708, 1.6865419149398804, 1.5965489149093628, 1.6779166460037231, 1.751804232597351, 1.7327042818069458, 1.601943016052246, 1.7242848873138428, 1.6904088258743286, 1.6582074165344238, 1.8075969219207764, 1.6269800662994385, 1.641007423400879, 1.695793628692627, 1.6418412923812866, 1.6850801706314087, 1.6532292366027832, 1.6635639667510986, 1.607179045677185, 1.7217059135437012, 1.6760650873184204, 1.6904942989349365, 1.6778650283813477, 1.6137237548828125, 1.548039436340332, 1.5934865474700928, 1.6068274974822998, 1.6411455869674683, 1.5555522441864014, 1.6113117933273315, 1.680752158164978, 1.611106514930725, 1.5672659873962402, 1.6962697505950928, 1.674736738204956, 1.6386133432388306, 1.6286741495132446, 1.7171835899353027, 1.6311500072479248, 1.5808185338974, 1.5831571817398071, 1.6169161796569824, 1.6594396829605103, 1.68229079246521, 1.6202101707458496, 1.7278997898101807, 1.6030193567276, 1.555110216140747, 1.7453255653381348, 1.6197259426116943, 1.5761570930480957, 1.5920740365982056, 1.5331274271011353, 1.6318156719207764, 1.5705375671386719, 1.5516245365142822, 1.6059882640838623, 1.575268030166626, 1.6442126035690308, 1.6624459028244019, 1.7296820878982544, 1.5553879737854004, 1.5967307090759277, 1.525478720664978, 1.5620886087417603, 1.7316184043884277, 1.5811614990234375, 1.6614264249801636, 1.6406701803207397, 1.6700716018676758, 1.5906554460525513, 1.5702193975448608, 1.6104304790496826, 1.5704725980758667, 1.6479675769805908, 1.5707815885543823, 1.599861741065979, 1.5755959749221802, 1.6071118116378784, 1.5259047746658325, 1.6592156887054443, 1.469835877418518, 1.572006106376648, 1.640047550201416, 1.5275273323059082, 1.7276307344436646, 1.59217369556427, 1.6098827123641968, 1.567224383354187, 1.6049308776855469, 1.5041635036468506, 1.6884912252426147, 1.6674636602401733, 1.5117233991622925, 1.6155439615249634, 1.6392794847488403, 1.5470906496047974, 1.5032975673675537, 1.6062995195388794, 1.621598243713379, 1.4801877737045288, 1.7352834939956665, 1.4725924730300903, 1.600403904914856, 1.7084224224090576, 1.609959363937378, 1.679273247718811, 1.5357294082641602, 1.6395618915557861, 1.6395317316055298, 1.5909321308135986, 1.4907029867172241, 1.552585482597351, 1.642466425895691, 1.6537507772445679, 1.5594090223312378, 1.569169282913208, 1.599931240081787, 1.5302129983901978, 1.4903470277786255, 1.497307300567627, 1.4261101484298706, 1.5367504358291626, 1.5547175407409668, 1.5152740478515625, 1.5179729461669922, 1.5881788730621338, 1.5716503858566284, 1.6179603338241577, 1.5482643842697144, 1.544301986694336, 1.5975050926208496, 1.490769386291504, 1.5250394344329834, 1.567009449005127, 1.6202110052108765, 1.6282134056091309, 1.4255743026733398, 1.562852144241333, 1.5978275537490845, 1.6492706537246704, 1.478310465812683, 1.6455243825912476, 1.5663915872573853, 1.6557953357696533, 1.614604115486145, 1.5700502395629883, 1.6062400341033936, 1.512837290763855, 1.6454448699951172, 1.5934889316558838, 1.5522574186325073, 1.4744627475738525, 1.4951417446136475, 1.5510690212249756, 1.5704154968261719, 1.4964436292648315, 1.4724820852279663, 1.4691435098648071, 1.6634608507156372, 1.6199589967727661, 1.680016279220581, 1.5790117979049683, 1.5995055437088013, 1.514039158821106, 1.5089573860168457, 1.6422961950302124, 1.6293363571166992, 1.5538567304611206, 1.4102479219436646, 1.5104995965957642, 1.5531904697418213, 1.5479663610458374, 1.4979500770568848, 1.531612753868103, 1.5367071628570557, 1.595249056816101, 1.5354012250900269, 1.5485024452209473, 1.5811482667922974, 1.4805721044540405, 1.5254460573196411, 1.4724595546722412, 1.437828779220581, 1.5717010498046875, 1.5809122323989868, 1.533429503440857, 1.572511076927185, 1.5870981216430664, 1.499762773513794, 1.5046311616897583, 1.5097806453704834, 1.4559534788131714, 1.5110503435134888, 1.5625100135803223, 1.6497794389724731, 1.500737190246582, 1.4470731019973755, 1.3916670083999634, 1.5090159177780151, 1.515255093574524, 1.6436986923217773, 1.5047543048858643, 1.4710209369659424, 1.4736957550048828, 1.484805703163147, 1.5461338758468628, 1.5373833179473877, 1.4974381923675537, 1.4997156858444214, 1.5697449445724487, 1.4571094512939453, 1.546105980873108, 1.4943019151687622, 1.513916015625, 1.4527379274368286, 1.4236626625061035, 1.4449175596237183, 1.4797673225402832, 1.4820247888565063, 1.5144250392913818, 1.5107840299606323, 1.3735063076019287, 1.446821689605713, 1.421236276626587, 1.3930585384368896, 1.5029481649398804, 1.4500579833984375, 1.5917896032333374, 1.5038336515426636, 1.4649977684020996, 1.6116082668304443, 1.465082049369812, 1.4372957944869995, 1.4737273454666138, 1.4597762823104858, 1.6190038919448853, 1.5002305507659912, 1.5275955200195312, 1.5182044506072998, 1.4090135097503662, 1.5150657892227173, 1.5111539363861084, 1.5146325826644897, 1.4997302293777466, 1.3781501054763794, 1.4086415767669678, 1.4251699447631836, 1.5203897953033447, 1.4304763078689575, 1.3935050964355469, 1.5584787130355835, 1.4995064735412598, 1.5189861059188843, 1.526253342628479, 1.479100227355957, 1.4409860372543335, 1.505499243736267, 1.5022369623184204, 1.4441981315612793, 1.4501755237579346, 1.5570794343948364, 1.5134174823760986, 1.503385305404663, 1.4603655338287354, 1.5068798065185547, 1.5308995246887207, 1.4537829160690308, 1.473997712135315, 1.4784660339355469, 1.5174345970153809, 1.5709152221679688, 1.4679957628250122, 1.567708134651184, 1.4252005815505981, 1.5949022769927979, 1.493247389793396, 1.4838247299194336, 1.3605746030807495, 1.4911439418792725, 1.364555835723877, 1.3797122240066528, 1.4530518054962158, 1.2819405794143677, 1.4427350759506226, 1.4719809293746948, 1.5140844583511353, 1.4192553758621216, 1.508234977722168, 1.3908785581588745, 1.6507433652877808, 1.3935236930847168, 1.5197690725326538, 1.4456450939178467, 1.4587578773498535, 1.4621378183364868, 1.4685393571853638, 1.4227535724639893, 1.4994258880615234, 1.5933442115783691, 1.4465681314468384, 1.3760509490966797, 1.4403104782104492, 1.3252335786819458, 1.5464223623275757, 1.489803671836853, 1.467399001121521, 1.507439136505127, 1.497378945350647, 1.4000921249389648, 1.489656925201416, 1.4548178911209106, 1.332482099533081, 1.6048963069915771, 1.3939120769500732, 1.505810260772705, 1.4457709789276123, 1.480177879333496, 1.4364359378814697, 1.4048750400543213, 1.3351110219955444, 1.4409421682357788, 1.43699312210083, 1.416540503501892, 1.4048078060150146, 1.3283889293670654, 1.468092441558838, 1.4052841663360596, 1.3438416719436646, 1.3267933130264282, 1.5243254899978638, 1.431262731552124, 1.5595632791519165, 1.4820075035095215, 1.3555512428283691, 1.4209306240081787, 1.3865199089050293, 1.3998163938522339, 1.438257098197937, 1.433411955833435, 1.4447336196899414, 1.322923183441162, 1.4662665128707886, 1.5287977457046509, 1.4247148036956787, 1.4407283067703247, 1.2958074808120728, 1.2984426021575928, 1.4358335733413696, 1.563606858253479, 1.5308665037155151, 1.5815703868865967, 1.3939251899719238, 1.5355379581451416, 1.4526033401489258, 1.4187860488891602, 1.3728203773498535, 1.350468397140503, 1.5936782360076904, 1.416865348815918, 1.4331305027008057, 1.4823813438415527, 1.4666048288345337, 1.260248064994812, 1.4503531455993652, 1.3209826946258545, 1.457801342010498, 1.5289050340652466, 1.5036264657974243, 1.4945166110992432, 1.4546104669570923, 1.5574767589569092, 1.3265811204910278, 1.5819393396377563, 1.5523537397384644, 1.4033901691436768, 1.4140082597732544, 1.5024656057357788, 1.3632750511169434, 1.4000327587127686, 1.4565403461456299, 1.4220106601715088, 1.55853271484375, 1.4076143503189087, 1.3126921653747559, 1.3682349920272827, 1.356389045715332, 1.3724373579025269, 1.4702725410461426, 1.506656289100647, 1.5385602712631226, 1.3300725221633911, 1.4105055332183838, 1.4080811738967896, 1.4313373565673828, 1.4336830377578735, 1.4038296937942505, 1.360756754875183, 1.4316209554672241, 1.346265435218811, 1.2470924854278564, 1.440905213356018, 1.4736775159835815, 1.5015490055084229, 1.5245890617370605, 1.4253215789794922, 1.4969221353530884, 1.594199299812317, 1.457375168800354, 1.3078665733337402, 1.4105409383773804, 1.382195234298706, 1.4389629364013672, 1.483850121498108, 1.3126373291015625, 1.3299643993377686, 1.502919316291809, 1.353155255317688, 1.3113648891448975, 1.3346941471099854, 1.4126421213150024, 1.3360564708709717, 1.394339919090271, 1.3923606872558594, 1.4108872413635254, 1.3970379829406738, 1.3736302852630615, 1.5341638326644897, 1.2980047464370728, 1.3486756086349487, 1.3599635362625122, 1.5589994192123413, 1.3599183559417725, 1.3433417081832886, 1.4266107082366943, 1.2854065895080566, 1.5151176452636719, 1.4398257732391357, 1.4081430435180664, 1.3914376497268677, 1.4135842323303223, 1.3573120832443237, 1.4455186128616333, 1.4650815725326538, 1.4170725345611572, 1.4460831880569458, 1.4723265171051025, 1.283257007598877, 1.383840799331665, 1.3230698108673096, 1.4087086915969849, 1.3870807886123657, 1.3370996713638306, 1.3612116575241089, 1.3682903051376343, 1.3451403379440308, 1.3403793573379517, 1.354608416557312, 1.4268559217453003, 1.4289048910140991, 1.3720752000808716, 1.3114690780639648, 1.446050763130188, 1.2520432472229004, 1.3430790901184082, 1.378327488899231, 1.298784613609314, 1.3412319421768188, 1.3837746381759644, 1.4215892553329468, 1.3755215406417847, 1.3763365745544434, 1.400007963180542, 1.3862857818603516, 1.330854892730713, 1.5232213735580444, 1.4622225761413574, 1.434560775756836, 1.3793457746505737, 1.4258685111999512, 1.4757457971572876, 1.2986477613449097, 1.3398576974868774, 1.3906474113464355, 1.3651750087738037, 1.4355577230453491, 1.396338939666748, 1.3236335515975952, 1.3752185106277466, 1.3855129480361938, 1.3760844469070435, 1.3249504566192627, 1.339027762413025, 1.2727439403533936, 1.3322491645812988, 1.4101612567901611, 1.213736891746521, 1.2804597616195679, 1.3942893743515015, 1.4156033992767334, 1.375252604484558, 1.3983656167984009, 1.2646747827529907, 1.3632456064224243, 1.2948179244995117, 1.4534622430801392, 1.368482232093811, 1.4387047290802002, 1.4495221376419067, 1.3417153358459473, 1.3291682004928589, 1.317725658416748, 1.401503324508667, 1.2940617799758911, 1.3107551336288452, 1.3946523666381836, 1.419845700263977, 1.2057561874389648, 1.2033623456954956, 1.4647797346115112, 1.3447669744491577, 1.308218240737915, 1.303127408027649, 1.3452003002166748, 1.415775179862976, 1.4762481451034546, 1.2340011596679688, 1.316353678703308, 1.4377193450927734, 1.4123570919036865, 1.3364276885986328, 1.354360580444336, 1.3595118522644043, 1.3825867176055908, 1.4424060583114624, 1.2613297700881958, 1.4138678312301636, 1.459705114364624, 1.2779394388198853, 1.3801493644714355, 1.354125738143921, 1.3758258819580078, 1.3846826553344727, 1.334839105606079, 1.1966133117675781, 1.3641811609268188, 1.3422445058822632, 1.3772882223129272, 1.084957242012024, 1.5007987022399902, 1.207046389579773, 1.4591100215911865, 1.2269505262374878, 1.3352395296096802, 1.3081034421920776, 1.4088592529296875, 1.3810784816741943, 1.4749791622161865, 1.4685230255126953, 1.3955477476119995, 1.1348127126693726, 1.3498884439468384, 1.381495714187622, 1.3487412929534912, 1.4440966844558716, 1.261244535446167, 1.2727051973342896, 1.4038184881210327, 1.391754150390625, 1.2913587093353271, 1.360393762588501, 1.384857416152954, 1.366477131843567, 1.2259420156478882, 1.448436975479126, 1.3322845697402954, 1.3283414840698242, 1.2908419370651245, 1.3543164730072021, 1.4493552446365356, 1.297888994216919, 1.40854012966156, 1.336956262588501, 1.380045771598816, 1.3029452562332153, 1.3500808477401733, 1.4254521131515503, 1.344603419303894, 1.4047890901565552, 1.331838607788086, 1.2813786268234253, 1.3792790174484253, 1.372398853302002, 1.2930641174316406, 1.3690900802612305, 1.298051357269287, 1.332571029663086, 1.4021092653274536, 1.3135839700698853, 1.483414888381958, 1.2966135740280151, 1.1975644826889038, 1.359081745147705, 1.3520359992980957, 1.260668396949768, 1.3903846740722656, 1.2247813940048218, 1.249328374862671, 1.275006890296936, 1.3668726682662964, 1.3510874509811401, 1.3474740982055664, 1.4361083507537842, 1.2360113859176636, 1.337101936340332, 1.3984708786010742, 1.3737449645996094, 1.358057975769043, 1.4428751468658447, 1.3361183404922485, 1.3173434734344482, 1.4312711954116821, 1.2273520231246948, 1.4215130805969238, 1.3094912767410278, 1.3564860820770264, 1.3150265216827393, 1.4092563390731812, 1.3137335777282715, 1.2811253070831299, 1.2093243598937988, 1.2942099571228027, 1.2694783210754395, 1.292632818222046, 1.3863637447357178, 1.3207145929336548, 1.343726634979248, 1.4058396816253662, 1.2093658447265625, 1.4358283281326294, 1.2732115983963013, 1.441678762435913, 1.3365528583526611, 1.2827974557876587, 1.4589476585388184, 1.1807278394699097, 1.3367477655410767, 1.3552764654159546, 1.2709565162658691, 1.360904574394226, 1.3402509689331055, 1.3148213624954224, 1.2654060125350952, 1.3638246059417725, 1.3542375564575195, 1.2395691871643066, 1.3489211797714233, 1.327582836151123, 1.2641955614089966, 1.3802685737609863, 1.2801518440246582, 1.4064218997955322, 1.3987627029418945, 1.4230897426605225, 1.3442713022232056, 1.2365163564682007, 1.2371275424957275, 1.3907971382141113, 1.2784807682037354, 1.2589564323425293, 1.2545726299285889, 1.2478395700454712, 1.267727017402649, 1.2918251752853394, 1.341468334197998, 1.2834349870681763, 1.3069899082183838, 1.3149092197418213, 1.2839996814727783, 1.263737678527832, 1.2455463409423828, 1.2534942626953125, 1.3980605602264404, 1.2646158933639526, 1.2887177467346191, 1.347145676612854, 1.366193175315857, 1.4142587184906006, 1.2986624240875244, 1.3003404140472412, 1.2473174333572388, 1.2127753496170044, 1.2822120189666748, 1.1985996961593628, 1.3060740232467651, 1.2061313390731812, 1.1736351251602173, 1.2328766584396362, 1.2169859409332275, 1.335604190826416, 1.3130778074264526, 1.1361677646636963, 1.2938408851623535, 1.216086506843567, 1.289059042930603, 1.4559741020202637, 1.3022147417068481, 1.3493696451187134, 1.3081036806106567, 1.3573030233383179, 1.249000906944275, 1.4021703004837036, 1.2971874475479126, 1.2551144361495972, 1.3165122270584106, 1.3148517608642578, 1.1293584108352661, 1.285361886024475, 1.4190391302108765, 1.3137998580932617, 1.193551778793335, 1.3899869918823242, 1.210715413093567, 1.198706865310669, 1.3247891664505005, 1.319535255432129, 1.232238531112671, 1.3247991800308228, 1.3141095638275146, 1.424668312072754, 1.3284928798675537, 1.3474438190460205, 1.2451038360595703, 1.2827227115631104, 1.2228732109069824, 1.3705809116363525, 1.2375036478042603, 1.323293685913086, 1.3246097564697266, 1.2897236347198486, 1.3107287883758545, 1.3646081686019897, 1.2740368843078613, 1.397524118423462, 1.379233479499817, 1.204588770866394, 1.3165570497512817, 1.2134596109390259, 1.4176801443099976, 1.4491599798202515, 1.4204168319702148, 1.3800592422485352, 1.2782225608825684, 1.4111765623092651, 1.3309664726257324, 1.474578619003296, 1.3651577234268188, 1.2869927883148193, 1.2737677097320557, 1.389855146408081, 1.2702583074569702, 1.2983899116516113, 1.222900390625, 1.356136679649353, 1.2750564813613892, 1.231299877166748, 1.1090035438537598, 1.2194523811340332, 1.2256158590316772, 1.2617146968841553, 1.168245553970337, 1.2043743133544922, 1.2153977155685425, 1.2457722425460815, 1.2882592678070068, 1.140255093574524, 1.2274056673049927, 1.28134024143219, 1.2451667785644531, 1.3597387075424194, 1.3249107599258423, 1.3440066576004028, 1.4270700216293335, 1.2169415950775146, 1.224072813987732, 1.313035249710083, 1.3608319759368896, 1.2996984720230103, 1.4172983169555664, 1.2474744319915771, 1.3478721380233765, 1.2465839385986328, 1.246392846107483, 1.228967308998108, 1.2439589500427246, 1.4332083463668823, 1.2910683155059814, 1.3450826406478882, 1.313455581665039, 1.2562836408615112, 1.3060195446014404, 1.4336919784545898, 1.257247805595398, 1.243086814880371, 1.4209582805633545, 1.2877497673034668, 1.2312278747558594, 1.4521230459213257, 1.2997945547103882, 1.3660452365875244, 1.1871005296707153, 1.263020396232605, 1.444204330444336, 1.3213673830032349, 1.1934274435043335, 1.365365743637085, 1.2217873334884644, 1.2270207405090332, 1.2606639862060547, 1.2110329866409302, 1.350724458694458, 1.2879440784454346, 1.2345794439315796, 1.2625125646591187, 1.3085272312164307, 1.3849868774414062, 1.349949836730957, 1.2955293655395508, 1.180166244506836, 1.3627502918243408, 1.2302336692810059, 1.2860966920852661, 1.1950743198394775, 1.187585473060608, 1.2830168008804321, 1.3205845355987549, 1.3134000301361084, 1.3543649911880493, 1.2026485204696655, 1.290242075920105, 1.1906052827835083, 1.3189221620559692, 1.1100136041641235, 1.2657625675201416, 1.3273961544036865, 1.290260672569275, 1.2914494276046753, 1.3374665975570679, 1.266523003578186, 1.1963672637939453, 1.3277653455734253, 1.3903124332427979, 1.1860747337341309, 1.301231026649475, 1.3539000749588013, 1.3012880086898804, 1.2328494787216187, 1.333939552307129, 1.2410271167755127, 1.469302773475647, 1.2288097143173218, 1.2831560373306274, 1.2311218976974487, 1.243918538093567, 1.2494617700576782, 1.2680878639221191, 1.2732150554656982, 1.3432904481887817, 1.2894935607910156, 1.3080331087112427, 1.2456163167953491, 1.2800294160842896, 1.239656925201416, 1.29688560962677, 1.2844008207321167, 1.1794863939285278, 1.3897819519042969, 1.254717469215393, 1.1092655658721924, 1.3802963495254517, 1.1564953327178955, 1.2848607301712036, 1.2302371263504028, 1.214501142501831, 1.3212488889694214, 1.2162806987762451, 1.267351746559143, 1.2178696393966675, 1.3275115489959717, 1.168712854385376, 1.2499520778656006, 1.3466733694076538, 1.2098329067230225, 1.1877938508987427, 1.2363579273223877, 1.3416616916656494, 1.1952943801879883, 1.2980444431304932, 1.142635703086853, 1.2130292654037476, 1.2672572135925293, 1.262268304824829, 1.3374731540679932, 1.1104415655136108, 1.244675636291504, 1.1297900676727295, 1.2656326293945312, 1.2711303234100342, 1.2646666765213013, 1.3844845294952393, 1.1485116481781006, 1.2549946308135986, 1.305607557296753, 1.3364906311035156, 1.1864774227142334, 1.3871418237686157, 1.2068617343902588, 1.193338394165039, 1.308002233505249, 1.204288125038147, 1.3047493696212769, 1.223650574684143, 1.2572414875030518, 1.3527913093566895, 1.372020959854126, 1.203160285949707, 1.2230932712554932, 1.3271335363388062, 1.2669003009796143, 1.2693276405334473, 1.3849655389785767, 1.2211859226226807, 1.3080265522003174, 1.184290885925293, 1.251799464225769, 1.244333028793335, 1.1812126636505127, 1.1920334100723267, 1.2256691455841064, 1.2238951921463013, 1.1298155784606934, 1.238453984260559, 1.243655800819397, 1.1971789598464966, 1.2956398725509644, 1.2385820150375366, 1.3271803855895996, 1.2117156982421875, 1.179112434387207, 1.3490486145019531, 1.2458324432373047, 1.346215009689331, 1.3591033220291138, 1.2245092391967773, 1.2538886070251465, 1.2251039743423462, 1.2553163766860962, 1.2969789505004883, 1.3101884126663208, 1.1878585815429688, 1.2092351913452148, 1.249943494796753, 1.3195196390151978, 1.2229355573654175, 1.1844446659088135, 1.2407392263412476, 1.249177098274231, 1.1481889486312866, 1.1881823539733887, 1.1938934326171875, 1.2272006273269653, 1.238929033279419, 1.3060517311096191, 1.3610976934432983, 1.394832730293274, 1.1261500120162964, 1.192509412765503, 1.333298683166504, 1.2418768405914307, 1.2650048732757568, 1.259158730506897, 1.2705714702606201, 1.2142202854156494, 1.2379029989242554, 1.3462226390838623, 1.2668819427490234, 1.1984916925430298, 1.0614877939224243, 1.1517633199691772, 1.3182588815689087, 1.077793002128601, 1.3477822542190552, 1.2289801836013794, 1.2719666957855225, 1.2258037328720093, 1.2508348226547241, 1.190508484840393, 1.3485981225967407, 1.2727288007736206, 1.1852483749389648, 1.1871130466461182, 1.3224170207977295, 1.364088773727417, 1.1321449279785156, 1.1244840621948242, 1.1495469808578491, 1.2537777423858643, 1.3073697090148926, 1.1858335733413696, 1.2374142408370972, 1.169741153717041, 1.242002248764038, 1.2087980508804321, 1.2751920223236084, 1.0946803092956543, 1.335639238357544, 1.1946715116500854, 1.1593466997146606, 1.2411195039749146, 1.1357616186141968, 1.1749604940414429, 1.2873934507369995, 1.3809345960617065, 1.2378016710281372, 1.068008303642273, 1.2108283042907715, 1.2228540182113647, 1.1795024871826172, 1.2981536388397217, 1.261382818222046, 1.0756304264068604, 1.1484558582305908, 1.1834850311279297, 1.2655715942382812, 1.2088367938995361, 1.328294038772583, 1.1940370798110962, 1.30713951587677, 1.2666115760803223, 1.2038012742996216, 1.2104871273040771, 1.1338680982589722, 1.232873558998108, 1.1380641460418701, 1.321852445602417, 1.3616353273391724, 1.2387443780899048, 1.220231056213379, 1.2476511001586914, 1.1585307121276855, 1.1456679105758667, 1.1618057489395142, 1.1347613334655762, 1.304484248161316, 1.1018667221069336, 1.245314359664917, 1.2816381454467773, 1.1210476160049438, 1.2820876836776733, 1.343782901763916, 1.1768804788589478, 1.1809165477752686, 1.207716464996338, 1.3395150899887085, 1.2990362644195557, 1.1432970762252808, 1.1157779693603516, 1.180959939956665, 1.2451752424240112, 1.1849545240402222, 1.2558422088623047, 1.174813151359558, 1.2092692852020264, 1.269159197807312, 1.102450966835022, 1.297893762588501, 1.2058441638946533, 1.3274385929107666, 1.0693917274475098, 1.229444980621338, 1.2992101907730103, 1.2604925632476807, 1.2669042348861694, 1.3060297966003418, 1.2683817148208618, 1.1729775667190552, 1.2654775381088257, 1.3212782144546509, 1.2032711505889893, 1.2253798246383667, 1.3479901552200317, 1.2443820238113403, 1.2736117839813232, 1.1590253114700317, 1.1284984350204468, 1.2683167457580566, 1.3499829769134521, 1.2663029432296753, 1.1943237781524658, 1.261593222618103, 1.197841763496399, 1.1867859363555908, 1.2345857620239258, 1.2300136089324951, 1.2073825597763062, 1.1600626707077026, 1.2939636707305908, 1.3593740463256836, 1.1927831172943115, 1.0977798700332642, 1.2109463214874268, 1.1174530982971191, 1.2819445133209229, 1.2178645133972168, 1.1362348794937134, 1.1812065839767456, 1.244461178779602, 1.2710955142974854, 1.2145203351974487, 1.3613518476486206, 1.1668778657913208, 1.2979222536087036, 1.1644600629806519, 1.0312789678573608, 1.1488492488861084, 1.2976163625717163, 1.3364862203598022, 1.257224678993225, 1.3146140575408936, 1.3476482629776, 1.1824849843978882, 1.2689529657363892, 1.2449530363082886, 1.1695945262908936, 1.1186424493789673, 1.2558856010437012, 1.2615984678268433, 1.2872145175933838, 1.1827423572540283, 1.2767267227172852, 1.2102584838867188, 1.201472520828247, 1.2662993669509888, 1.216687798500061, 1.271512746810913, 1.2553457021713257, 1.2975705862045288, 1.2581682205200195, 1.1948468685150146, 1.2363083362579346, 1.2032972574234009, 1.1487047672271729, 1.1753426790237427, 1.2754937410354614, 1.313236951828003, 1.2284654378890991, 1.0806655883789062, 1.294189691543579, 1.1592302322387695, 1.2058873176574707, 1.2197126150131226, 1.1199886798858643, 1.0739938020706177, 1.1923738718032837, 1.308628797531128, 1.1890467405319214, 1.2344434261322021, 1.1624338626861572, 1.1850014925003052, 1.1061358451843262, 1.1527397632598877, 1.1897356510162354, 1.2090588808059692, 1.1361225843429565, 1.2983441352844238, 1.2490345239639282, 1.1847093105316162, 1.4310686588287354, 1.1419638395309448, 1.2687381505966187, 1.1906651258468628, 1.2591177225112915, 1.1876288652420044, 1.1425135135650635, 1.2247395515441895, 1.10498046875, 1.2136191129684448, 1.2350654602050781, 1.023740291595459, 1.0897059440612793, 1.1687463521957397, 1.2319023609161377, 1.336980938911438, 1.2560569047927856, 1.233563780784607, 1.22390878200531, 1.1190526485443115, 1.1523230075836182, 1.278259038925171, 1.2730388641357422, 1.2268850803375244, 1.2434765100479126, 1.382527470588684, 1.291054129600525, 1.2304400205612183, 1.2836148738861084, 1.2244395017623901, 1.252893328666687, 1.2728725671768188, 1.0458139181137085, 1.2174999713897705, 1.3202143907546997, 1.2777007818222046, 1.1882450580596924, 1.2640107870101929, 1.127654790878296, 1.1613463163375854, 1.1226961612701416, 1.3717920780181885, 1.1114143133163452, 1.1161812543869019, 1.2466301918029785, 1.261311411857605, 1.1241008043289185, 1.1664271354675293, 1.1584492921829224, 1.3412948846817017, 1.1369078159332275, 1.3394749164581299, 1.2170259952545166, 1.1310871839523315, 1.233199954032898, 1.2381364107131958, 1.1593354940414429, 1.0647268295288086, 1.1055006980895996, 1.1450870037078857, 1.048033356666565, 1.111899733543396, 1.218261957168579, 1.09805166721344, 1.2373963594436646, 1.0766124725341797, 1.163253664970398, 1.3040826320648193, 1.2037067413330078, 1.161779522895813, 0.9956873655319214, 1.2934200763702393, 1.111494779586792, 1.1228405237197876, 1.1537646055221558, 1.259932279586792, 1.214881181716919, 1.071610450744629, 1.2679555416107178, 1.167436957359314, 1.258750557899475, 1.1821767091751099, 1.2480968236923218, 1.180204153060913, 1.1959091424942017, 1.1694862842559814, 1.2632787227630615, 1.335461139678955, 1.0845922231674194, 1.1872540712356567, 1.1499319076538086, 1.3181979656219482, 1.1970559358596802, 1.1093966960906982, 1.2058544158935547, 1.151838779449463, 1.1651227474212646, 1.186108946800232, 1.2196738719940186, 1.245153784751892, 1.1003444194793701, 1.2197908163070679, 1.3217395544052124, 1.1873869895935059, 1.1501882076263428, 1.2154220342636108, 1.120146632194519, 1.1229771375656128, 1.1652697324752808, 1.1833857297897339, 1.1595853567123413, 1.163033127784729, 1.192967414855957, 1.1412923336029053, 1.2523908615112305, 1.241840124130249, 1.2910635471343994, 1.1498464345932007, 1.2519383430480957, 1.1780827045440674, 1.2681372165679932, 1.1994012594223022, 1.0831166505813599, 1.111685037612915, 0.9423646330833435, 1.1739301681518555, 1.2246180772781372, 1.308927059173584, 1.2637126445770264, 1.2406429052352905, 1.3439302444458008, 1.1168134212493896, 1.1495307683944702, 1.16929292678833, 1.1740680932998657, 1.214207649230957, 1.1353100538253784, 1.266007900238037, 1.1185420751571655, 1.1312917470932007, 1.2277337312698364, 1.2755094766616821, 1.393059492111206, 1.1585614681243896, 1.1795612573623657, 1.0720514059066772, 1.1880476474761963, 1.2896372079849243, 1.1624454259872437, 1.1856223344802856, 1.2068796157836914, 1.2372993230819702, 1.086320400238037, 1.0811809301376343, 1.1820987462997437, 1.1944552659988403, 1.2026622295379639, 1.0722776651382446, 1.1645102500915527, 1.0682296752929688, 1.2587814331054688, 1.1194801330566406, 1.4181597232818604, 1.0694748163223267, 1.232247233390808, 1.1688185930252075, 1.137898325920105, 1.067157506942749, 1.1876857280731201, 1.2375376224517822, 0.9476123452186584, 1.1311118602752686, 1.1818296909332275, 1.1563153266906738, 1.2608115673065186, 1.1925946474075317, 1.076789379119873, 1.2143442630767822, 1.2031546831130981, 1.318751335144043, 1.0842655897140503, 1.1280491352081299, 1.17059326171875, 1.1408302783966064, 1.2723078727722168, 1.1590497493743896, 1.3396623134613037, 1.367745041847229, 1.0515910387039185, 1.1844532489776611, 1.1535605192184448, 1.0744296312332153, 1.0994893312454224, 1.2939354181289673, 1.0770241022109985, 1.2345467805862427, 1.0767016410827637, 1.2018364667892456, 1.1611227989196777, 1.2442039251327515, 1.172350287437439, 1.1338889598846436, 1.046358585357666, 1.2345205545425415, 1.3063074350357056, 1.158649206161499, 1.3754172325134277, 1.0879346132278442, 1.1339619159698486, 1.2269561290740967, 1.06173574924469, 1.1175973415374756, 1.1722972393035889, 1.185670018196106, 1.2078181505203247, 1.2993580102920532, 1.1585009098052979, 1.0728322267532349, 1.1181031465530396, 1.0192501544952393, 1.2484006881713867, 1.2242318391799927, 1.2071170806884766, 1.0172873735427856, 1.207401990890503, 1.1053239107131958, 1.184020757675171, 1.1295896768569946, 1.079048752784729, 1.2044167518615723, 1.0518003702163696, 1.1613746881484985, 1.1879522800445557, 1.0705333948135376, 1.1467927694320679, 1.1374777555465698, 1.0226129293441772, 1.2813775539398193, 1.346875786781311, 1.1374189853668213, 1.1734896898269653, 1.0842543840408325, 1.2215852737426758, 1.4932798147201538, 1.1449038982391357, 1.224300503730774, 1.1842619180679321, 1.2423791885375977, 1.2403690814971924, 1.131603717803955, 1.1486889123916626, 1.1493752002716064, 1.2498105764389038, 1.2080351114273071, 1.2417714595794678, 1.3207694292068481, 1.1556785106658936, 1.114275336265564, 1.1454752683639526, 1.2081961631774902, 1.1852331161499023, 1.0944232940673828, 1.1467021703720093, 1.1593561172485352, 1.0596102476119995, 1.1009795665740967, 1.2258073091506958, 0.9554330706596375, 1.3402857780456543, 1.1257696151733398, 1.1198512315750122, 1.236943006515503, 1.1739550828933716, 1.2984182834625244, 1.1963313817977905, 1.1824537515640259, 1.1252444982528687, 1.2966233491897583, 1.1619983911514282, 1.1093112230300903, 1.1686632633209229, 0.9971163868904114, 1.16873037815094, 1.1778173446655273, 1.0586004257202148, 1.0981619358062744, 1.2459603548049927, 1.2324327230453491, 1.167305827140808, 1.106836199760437, 1.1382609605789185, 1.1944407224655151, 1.2049096822738647, 1.17221200466156, 1.3139550685882568, 1.217278242111206, 1.168363094329834, 1.194994568824768, 1.1577155590057373, 1.1036125421524048, 1.2374627590179443, 1.2249354124069214, 1.0269088745117188, 1.2589755058288574, 1.0796372890472412, 1.3464834690093994, 1.2643665075302124, 1.0710391998291016, 1.1341294050216675, 1.1687926054000854, 1.0887852907180786, 1.1207259893417358, 1.1665334701538086, 1.1578240394592285, 1.0430599451065063, 1.1535942554473877, 1.2039461135864258, 1.1850731372833252, 1.1777032613754272, 1.105181336402893, 1.170958161354065, 1.2706786394119263, 1.2485249042510986, 1.2443352937698364, 1.2534451484680176, 1.2817671298980713, 1.2570937871932983, 1.1627426147460938, 1.2232551574707031, 1.111852765083313, 1.1738097667694092, 1.1256475448608398, 1.1665505170822144, 1.2380505800247192, 1.1362582445144653, 1.0906306505203247, 1.185798168182373, 1.1131865978240967, 1.2053122520446777, 1.143318772315979, 1.0983303785324097, 1.3845160007476807, 1.2279328107833862, 1.2460287809371948, 1.094312071800232, 1.0336188077926636, 1.2751836776733398, 1.1434792280197144, 1.0693060159683228, 1.141303300857544, 1.1238261461257935, 1.2137651443481445, 1.188654899597168, 1.2061371803283691, 1.0179638862609863, 1.078471064567566, 1.0111870765686035, 1.1260967254638672, 1.0575244426727295, 1.2360527515411377, 1.2071009874343872, 1.0609757900238037, 1.1393918991088867, 1.0980911254882812, 1.1895793676376343, 1.0884041786193848, 1.1763567924499512, 1.0792752504348755, 1.1405013799667358, 1.1443121433258057, 1.0224817991256714, 1.1271872520446777, 1.169541835784912, 1.18735933303833, 1.2546865940093994, 1.084825038909912, 1.2835382223129272, 1.2672083377838135, 1.1272385120391846, 1.3023791313171387, 1.1501702070236206, 1.2173529863357544, 1.175121784210205, 1.2045772075653076, 1.1846953630447388, 0.9816011786460876, 1.2660472393035889, 1.1844459772109985, 1.0956215858459473, 1.0478228330612183, 1.139631986618042, 1.2494879961013794, 1.1942018270492554, 1.15230131149292, 1.0171787738800049, 1.040533423423767, 1.093995451927185, 1.0710632801055908, 1.237122654914856, 1.012040376663208, 1.1450986862182617, 1.1457914113998413, 1.2687331438064575, 1.0393633842468262, 1.1776165962219238, 1.117396354675293, 1.139480471611023, 1.0973494052886963, 1.1966235637664795, 1.1574190855026245, 1.0475724935531616, 1.1342908143997192, 1.1011697053909302, 1.1352163553237915, 1.0557671785354614, 1.155058741569519, 1.3216156959533691, 1.1129441261291504, 1.247071385383606, 1.0244313478469849, 1.230790138244629, 1.3179819583892822, 1.1141659021377563, 1.233420729637146, 1.1685417890548706, 0.9806674718856812, 1.1134474277496338, 1.2141984701156616, 1.1806780099868774, 1.228281021118164, 1.1342278718948364, 1.2077938318252563, 1.1228126287460327, 1.0025889873504639, 1.0903743505477905, 1.273364782333374, 1.1791361570358276, 1.0336081981658936, 1.1209664344787598, 1.1027871370315552, 1.2671263217926025, 1.1310510635375977, 1.16305410861969, 1.1820576190948486, 1.1188147068023682, 1.111559271812439, 1.2845194339752197, 1.2358601093292236, 1.2337582111358643, 1.0810189247131348, 1.145240068435669, 1.2160242795944214, 1.1322845220565796, 1.0084052085876465, 1.1764914989471436, 1.2159453630447388, 1.209240198135376, 1.1044102907180786, 1.111890196800232, 1.1236690282821655, 1.0690069198608398, 1.2334513664245605, 1.255659818649292, 1.252071499824524, 1.2053630352020264, 1.2030820846557617, 1.033864974975586, 1.2797281742095947, 1.168656587600708, 1.1406185626983643, 1.155531883239746, 1.1259586811065674, 1.1368931531906128, 1.0314240455627441, 1.2426601648330688, 1.1986678838729858, 1.156303882598877, 1.1056627035140991, 1.029175877571106, 1.0633056163787842, 1.2059475183486938, 1.3136565685272217, 1.1512573957443237, 1.1629689931869507, 1.1792469024658203, 1.097832441329956, 1.1071957349777222, 1.1959571838378906, 1.087781548500061, 1.0717384815216064, 1.0929193496704102, 1.1842432022094727, 1.0942271947860718, 1.0124202966690063, 1.2001537084579468, 1.1081050634384155, 1.0134578943252563, 1.2107328176498413, 1.1573612689971924, 1.1610044240951538, 1.1962907314300537, 1.1092609167099, 1.1878026723861694, 1.000170111656189, 1.127564549446106, 1.183145523071289, 1.027199387550354, 1.1672884225845337, 1.137286901473999, 1.0583863258361816, 1.2646253108978271, 1.0998376607894897, 1.0867363214492798, 1.217863917350769, 1.0060784816741943, 1.2520307302474976, 1.1910338401794434, 1.1237229108810425, 1.0510457754135132, 1.0549181699752808, 1.0185900926589966, 1.0216357707977295, 1.2816087007522583, 1.1794202327728271, 1.1894420385360718, 1.2174745798110962, 1.2525984048843384, 1.055112600326538, 1.0889616012573242, 1.0697070360183716, 1.0543826818466187, 1.0518168210983276, 1.2035318613052368, 1.0932590961456299, 1.2291942834854126, 1.2213287353515625, 1.1457771062850952, 1.0608937740325928, 1.1549735069274902, 1.1524202823638916, 1.259389877319336, 1.0693726539611816, 1.2321771383285522, 1.1385703086853027, 1.15049409866333, 1.0816348791122437, 1.2655704021453857, 1.2247148752212524, 1.0776855945587158, 1.3045028448104858, 1.1777751445770264, 1.1738598346710205, 1.424143671989441, 1.2382676601409912, 1.190616250038147, 1.216508150100708, 1.0306711196899414, 1.1736772060394287, 1.145677089691162, 1.1069817543029785, 1.0724297761917114, 1.0289554595947266, 1.1891937255859375, 1.0740360021591187, 1.197803258895874, 1.1671807765960693, 1.1393646001815796, 1.3436343669891357, 1.1410298347473145, 1.036173701286316, 1.0596413612365723, 1.1323362588882446, 1.0634424686431885, 1.2848029136657715, 1.1595178842544556, 1.2566089630126953, 1.231281042098999, 1.0090442895889282, 1.097265601158142, 1.0655421018600464, 1.0782958269119263, 0.970836341381073, 1.2107423543930054, 1.1561702489852905, 1.156532645225525, 1.101308822631836, 1.107455849647522, 1.110191822052002, 1.2288216352462769, 1.0085242986679077, 1.1333800554275513, 1.1758671998977661, 1.2171038389205933, 1.022158145904541, 0.9985247254371643, 1.0915303230285645, 1.1645036935806274, 1.1970525979995728, 1.2413110733032227, 1.18070387840271, 1.0134296417236328, 1.111925482749939, 1.079545259475708, 1.2706092596054077, 1.108689785003662, 1.1768131256103516, 1.1428927183151245, 1.0916342735290527, 1.039789080619812, 1.1788753271102905, 1.016517162322998, 1.0917932987213135, 1.026741623878479, 1.1901624202728271, 1.162495732307434, 1.1015297174453735, 1.1372276544570923, 1.1729023456573486, 1.1873778104782104, 0.9557938575744629, 1.0958665609359741, 1.3098764419555664, 1.1224794387817383, 0.9736337661743164, 1.249462366104126, 0.9498804807662964, 1.1682320833206177, 1.1943145990371704, 1.1597832441329956, 1.017506718635559, 1.1314871311187744, 1.235020399093628, 1.0856246948242188, 1.0806297063827515, 1.0701795816421509, 1.104755163192749, 1.06093430519104, 1.1850049495697021, 1.0289130210876465, 1.1152139902114868, 1.1889865398406982, 1.2352983951568604, 1.1682528257369995, 1.0768206119537354, 1.088755488395691, 1.1182057857513428, 1.0110403299331665, 1.1398205757141113, 1.1537461280822754, 1.0832598209381104, 1.016237735748291, 1.2674388885498047, 0.9288543462753296, 1.1061691045761108, 0.9914869666099548, 1.020275592803955, 1.1643146276474, 1.109299898147583, 1.0956839323043823, 1.1046866178512573, 1.012560486793518, 1.196669101715088, 1.1090036630630493, 1.165649175643921, 1.0204064846038818, 1.11004638671875, 1.0168722867965698, 1.166437029838562, 1.1258686780929565, 1.1983706951141357, 1.0331943035125732, 1.1696734428405762, 1.2310502529144287, 0.9830252528190613, 1.30558180809021, 1.1314798593521118, 1.1434431076049805, 0.9855058789253235, 1.117823600769043, 1.133198857307434, 1.0740437507629395, 1.0198662281036377, 1.2083688974380493, 1.0244274139404297, 1.0681301355361938, 1.134236216545105, 0.9650728702545166, 1.1520535945892334, 0.9818406701087952, 1.178832769393921, 1.1454399824142456, 1.2165006399154663, 1.1768816709518433, 1.2188057899475098, 1.1603797674179077, 1.0972346067428589, 1.1269148588180542, 1.0721752643585205, 1.1483302116394043, 1.1372405290603638, 1.1323096752166748, 1.0393130779266357, 1.0357177257537842, 1.2102367877960205, 1.1074717044830322, 1.1591317653656006, 1.1474368572235107, 1.1491419076919556, 1.1239230632781982, 1.1330819129943848, 1.1422609090805054, 1.089706301689148, 1.1994820833206177, 0.9307953715324402, 1.1173018217086792, 1.2344695329666138, 1.1891157627105713, 1.1862142086029053, 1.0553162097930908, 1.1524244546890259, 1.124981164932251, 1.172650694847107, 0.9338930249214172, 1.039756417274475, 1.1262844800949097, 1.2235217094421387, 1.0050753355026245, 1.2061783075332642, 1.2021031379699707, 1.127387285232544, 1.1627519130706787, 1.2015529870986938, 1.1464325189590454, 1.2740892171859741, 1.163616418838501, 1.1495152711868286, 1.2685388326644897, 1.042017936706543, 1.1292046308517456, 1.016007900238037, 1.3131216764450073, 1.1259725093841553, 1.2413393259048462, 1.145272970199585, 1.0065057277679443, 1.0698121786117554, 1.0949000120162964, 1.1332571506500244, 1.1680880784988403, 0.9817202091217041, 1.0183829069137573, 1.2415828704833984, 1.00702702999115, 1.0256483554840088, 1.0687918663024902, 1.082339882850647, 1.0992469787597656, 1.1835659742355347, 1.1576579809188843, 1.194486141204834, 1.0643112659454346, 1.118077278137207, 0.9549928903579712, 1.0830384492874146, 1.0102146863937378, 1.1303839683532715, 1.1422920227050781, 1.0390892028808594, 1.021467924118042, 1.2326655387878418, 1.1578501462936401, 1.0235484838485718, 0.9978881478309631, 1.1130322217941284, 1.1671165227890015, 1.0621283054351807, 1.301007866859436, 1.213223934173584, 1.150696039199829, 1.038969874382019, 1.1162315607070923, 1.1681256294250488, 1.0678116083145142, 1.0577330589294434, 1.0947647094726562, 1.0494173765182495, 1.007455587387085, 1.0187329053878784, 1.175041913986206, 1.1179670095443726, 1.1681523323059082, 1.2916648387908936, 1.024451732635498, 1.1472480297088623, 1.0643671751022339, 1.0899603366851807, 1.0679916143417358, 1.2134394645690918, 1.0774023532867432, 1.2495386600494385, 1.0619441270828247, 1.1202648878097534, 1.054091453552246, 0.9715911746025085, 1.1052864789962769, 1.081560730934143, 1.2075446844100952, 1.016635775566101, 1.007519006729126, 1.1148147583007812, 1.0723159313201904, 1.205419898033142, 1.1475534439086914, 0.918643057346344, 1.1008741855621338, 1.1235437393188477, 1.1497743129730225, 1.1603546142578125, 1.1145951747894287, 1.1094987392425537, 1.1378110647201538, 1.0294581651687622, 1.1050444841384888, 1.1660141944885254, 1.0264911651611328, 1.032220721244812, 1.179527997970581, 1.0269036293029785, 1.0485652685165405, 1.1092299222946167, 1.1835522651672363, 1.15852952003479, 1.1635117530822754, 1.1661691665649414, 1.1235421895980835, 1.0807133913040161, 1.1499003171920776, 1.0499017238616943, 1.0576682090759277, 1.0314828157424927, 1.111398458480835, 1.1767810583114624, 1.1589001417160034, 1.0955500602722168, 1.1062952280044556, 0.9341548085212708, 1.1042098999023438, 1.196802020072937, 1.039158582687378, 1.129920244216919, 1.1854822635650635, 1.0659180879592896, 1.058677315711975, 1.0712308883666992, 1.1529133319854736, 1.1014033555984497, 0.9869086742401123, 1.102549433708191, 1.1946287155151367, 1.1344928741455078, 1.221358299255371, 1.175519347190857, 1.2243316173553467, 1.11881422996521, 1.119451642036438, 1.1883784532546997, 1.0795925855636597, 1.1129958629608154, 1.1979788541793823, 1.1563410758972168, 1.0897897481918335, 1.0028791427612305, 1.0374094247817993, 0.9318854212760925, 1.1317812204360962, 0.938979983329773, 0.9397681951522827, 1.2042585611343384, 1.1315866708755493, 1.047217845916748, 1.1454057693481445, 1.135312557220459, 1.0926644802093506, 1.2654153108596802, 1.0701818466186523, 1.1852748394012451, 1.0529898405075073, 1.0983936786651611, 0.9744776487350464, 1.0458362102508545, 1.2536295652389526, 1.1602901220321655, 1.0321152210235596, 1.1176302433013916, 1.1403565406799316, 1.0907702445983887, 1.0154483318328857, 1.0783262252807617, 0.9497197866439819, 1.1188887357711792, 1.1778819561004639, 0.9542689919471741, 1.1205461025238037, 1.1796345710754395, 1.0550782680511475, 1.1511688232421875, 0.9995269179344177, 1.0890278816223145, 1.0794950723648071, 1.0292284488677979, 1.0827524662017822, 1.00525963306427, 1.1753766536712646, 1.1658563613891602, 0.975507915019989, 1.0676509141921997, 1.137197732925415, 1.1810717582702637, 1.0944609642028809, 1.137509822845459, 1.0061912536621094, 1.1154147386550903, 0.9771360158920288, 1.0610755681991577, 1.120106816291809, 1.0689038038253784, 1.047208309173584, 1.1068893671035767, 1.1573503017425537, 1.062801718711853, 1.1835333108901978, 1.10997474193573, 1.070314884185791, 1.0472508668899536, 1.1935323476791382, 1.0429365634918213, 1.1153972148895264, 1.0883219242095947, 1.0233497619628906, 1.2726715803146362, 1.0505956411361694, 1.0625399351119995, 1.0093742609024048, 1.0150102376937866, 1.0369699001312256, 1.064304232597351, 1.159143090248108, 1.0802487134933472, 1.1185851097106934, 1.047947883605957, 1.059584617614746, 1.0000625848770142, 1.0926589965820312, 1.2936038970947266, 1.1140472888946533, 1.1056537628173828, 1.1605830192565918, 1.0394169092178345, 1.0502432584762573, 1.0399537086486816, 0.9876315593719482, 0.9281057715415955, 1.051458716392517, 1.03506600856781, 1.1307464838027954, 1.069632649421692, 1.0401740074157715, 1.018620491027832, 0.9979580044746399, 1.104132890701294, 1.1804559230804443, 1.1252226829528809, 1.146404504776001, 1.3555934429168701, 1.146985411643982, 1.0620638132095337, 1.0613659620285034, 0.9745237231254578, 1.0075938701629639, 1.184293508529663, 0.9993363618850708, 1.0897712707519531, 1.102832317352295, 1.1374645233154297, 1.1094545125961304, 1.0430725812911987, 1.1825320720672607, 1.0458667278289795, 1.0387494564056396, 1.0818421840667725, 0.9395446181297302, 1.100594401359558, 1.0336387157440186, 1.1021443605422974, 1.0540173053741455, 1.1597158908843994, 1.178670048713684, 0.9990238547325134, 0.9274256229400635, 1.1169198751449585, 1.1824283599853516, 1.179259181022644, 1.0874230861663818, 1.2162131071090698, 1.0263177156448364, 1.213076114654541, 1.0741939544677734, 1.1666817665100098, 1.0984723567962646, 1.1295156478881836, 1.12556791305542, 1.1045790910720825, 0.9279442429542542, 1.0250955820083618, 1.086682677268982, 1.2028167247772217, 1.1091629266738892, 1.11692214012146, 1.0733121633529663, 1.0759042501449585, 1.054322361946106, 0.8680046796798706, 0.9598758816719055, 0.9676927924156189, 0.9451683759689331, 1.0963877439498901, 1.0822842121124268, 1.0391740798950195, 1.0873502492904663, 1.1415866613388062, 1.0374854803085327, 1.1396254301071167, 1.017303466796875, 1.2041771411895752, 0.9982916116714478, 1.0824596881866455, 0.9081128239631653, 1.2349923849105835, 1.1527005434036255, 1.071000337600708, 1.1292169094085693, 1.309254765510559, 0.8996436595916748, 1.025882363319397, 1.3413680791854858, 1.0894079208374023, 1.054966926574707, 1.0938619375228882, 1.096795916557312, 1.0635558366775513, 1.1286479234695435, 0.9984691143035889, 1.0829567909240723, 1.1669111251831055, 1.1962039470672607, 1.2195979356765747, 1.0208442211151123, 1.2953063249588013, 1.12599778175354, 1.2503373622894287, 1.1018848419189453, 1.0921204090118408, 1.1342954635620117, 1.0346165895462036, 1.2107443809509277, 1.0879402160644531, 1.0226290225982666, 1.195924997329712, 1.0792319774627686, 1.0112210512161255, 0.9952198266983032, 1.1421806812286377, 1.1297377347946167, 1.1182796955108643, 1.0368741750717163, 0.964309811592102, 1.0493543148040771, 1.0352177619934082, 1.0069475173950195, 1.0864437818527222, 1.1013723611831665, 1.050142526626587, 1.0800939798355103, 1.2264446020126343, 1.0425997972488403, 1.2312089204788208, 1.0796468257904053, 0.939734160900116, 1.1595689058303833, 1.0390080213546753, 1.0289745330810547, 1.0295395851135254, 0.9413779973983765, 0.934813380241394, 1.1061345338821411, 1.0130046606063843, 1.1745764017105103, 1.031678557395935, 1.2479779720306396, 1.0806916952133179, 1.0059765577316284, 1.0497435331344604, 1.0602624416351318, 1.091615080833435, 1.045411229133606, 1.1027841567993164, 1.2008150815963745, 1.0561522245407104, 1.0755094289779663, 1.0753389596939087, 1.0114010572433472, 0.9949518442153931, 0.9880121946334839, 1.1417298316955566, 1.1423280239105225, 1.1157963275909424, 1.2746204137802124, 1.2475917339324951, 1.0834418535232544, 1.002557396888733, 1.0152640342712402, 1.0797075033187866, 0.9816029667854309, 1.1233808994293213, 1.1130356788635254, 1.0725767612457275, 1.0102766752243042, 1.0980892181396484, 1.0807596445083618, 1.056913137435913, 1.1793954372406006, 1.0094358921051025, 1.0707861185073853, 1.188396692276001, 1.0334153175354004, 1.1660231351852417, 1.122275710105896, 0.986434817314148, 0.9787471294403076, 1.20552396774292, 1.1728240251541138, 1.254960060119629, 0.9543211460113525, 1.0578066110610962, 1.0701539516448975, 1.1737515926361084, 1.1830158233642578, 0.9599572420120239, 1.0521135330200195, 1.100234031677246, 1.1218852996826172, 1.0171219110488892, 1.1590145826339722, 1.106791615486145, 0.9838213920593262, 1.040244460105896, 1.0719658136367798, 1.142600655555725, 1.0325679779052734, 0.9865102767944336, 0.9205125570297241, 1.1476935148239136, 1.275213360786438, 1.1445159912109375, 1.0284547805786133, 0.9285691976547241, 1.0815885066986084, 1.0788753032684326, 1.134395718574524, 1.1542421579360962, 1.1500169038772583, 1.0762395858764648, 1.1229604482650757, 1.0594686269760132, 1.1705451011657715, 1.1977266073226929, 1.0136854648590088, 1.0619850158691406, 1.1549742221832275, 1.1849578619003296, 1.0809392929077148]\n"
          ],
          "name": "stdout"
        }
      ]
    },
    {
      "cell_type": "code",
      "metadata": {
        "id": "pea9FVx0NF7Z",
        "colab": {
          "base_uri": "https://localhost:8080/",
          "height": 299
        },
        "outputId": "cd64858e-cba1-449a-84a4-f3d5e98083e2"
      },
      "source": [
        "input_test_images ,input_test_labesl = next(iter(test_loader))\n",
        "model.eval()\n",
        "figure = plt.figure(figsize=(4, 4))\n",
        "with torch.no_grad():\n",
        "    y = model(input_test_images.to(device))\n",
        "    print(f'예측된 값: {torch.argmax(y[0]).detach().cpu().numpy()}')\n",
        "    print(f'정답: {input_test_labesl[0].detach().cpu().numpy()}')\n",
        "    plt.imshow(input_test_images[0].squeeze())"
      ],
      "execution_count": null,
      "outputs": [
        {
          "output_type": "stream",
          "text": [
            "예측된 값: 9\n",
            "정답: 9\n"
          ],
          "name": "stdout"
        },
        {
          "output_type": "display_data",
          "data": {
            "image/png": "[encoded data removed]",
            "text/plain": [
              "<Figure size 288x288 with 1 Axes>"
            ]
          },
          "metadata": {
            "needs_background": "light"
          }
        }
      ]
    },
    {
      "cell_type": "code",
      "metadata": {
        "colab": {
          "base_uri": "https://localhost:8080/"
        },
        "id": "g645vQRFi5Of",
        "outputId": "b569dd17-f1ed-4b50-844c-e6dc65698498"
      },
      "source": [
        "! pip install shap"
      ],
      "execution_count": null,
      "outputs": [
        {
          "output_type": "stream",
          "text": [
            "Collecting shap\n",
            "  Downloading shap-0.39.0.tar.gz (356 kB)\n",
            "\u001b[?25l\r\u001b[K     |█                               | 10 kB 25.4 MB/s eta 0:00:01\r\u001b[K     |█▉                              | 20 kB 31.9 MB/s eta 0:00:01\r\u001b[K     |██▊                             | 30 kB 22.2 MB/s eta 0:00:01\r\u001b[K     |███▊                            | 40 kB 17.8 MB/s eta 0:00:01\r\u001b[K     |████▋                           | 51 kB 9.3 MB/s eta 0:00:01\r\u001b[K     |█████▌                          | 61 kB 9.2 MB/s eta 0:00:01\r\u001b[K     |██████▍                         | 71 kB 9.2 MB/s eta 0:00:01\r\u001b[K     |███████▍                        | 81 kB 10.3 MB/s eta 0:00:01\r\u001b[K     |████████▎                       | 92 kB 10.7 MB/s eta 0:00:01\r\u001b[K     |█████████▏                      | 102 kB 8.6 MB/s eta 0:00:01\r\u001b[K     |██████████▏                     | 112 kB 8.6 MB/s eta 0:00:01\r\u001b[K     |███████████                     | 122 kB 8.6 MB/s eta 0:00:01\r\u001b[K     |████████████                    | 133 kB 8.6 MB/s eta 0:00:01\r\u001b[K     |████████████▉                   | 143 kB 8.6 MB/s eta 0:00:01\r\u001b[K     |█████████████▉                  | 153 kB 8.6 MB/s eta 0:00:01\r\u001b[K     |██████████████▊                 | 163 kB 8.6 MB/s eta 0:00:01\r\u001b[K     |███████████████▋                | 174 kB 8.6 MB/s eta 0:00:01\r\u001b[K     |████████████████▋               | 184 kB 8.6 MB/s eta 0:00:01\r\u001b[K     |█████████████████▌              | 194 kB 8.6 MB/s eta 0:00:01\r\u001b[K     |██████████████████▍             | 204 kB 8.6 MB/s eta 0:00:01\r\u001b[K     |███████████████████▎            | 215 kB 8.6 MB/s eta 0:00:01\r\u001b[K     |████████████████████▎           | 225 kB 8.6 MB/s eta 0:00:01\r\u001b[K     |█████████████████████▏          | 235 kB 8.6 MB/s eta 0:00:01\r\u001b[K     |██████████████████████          | 245 kB 8.6 MB/s eta 0:00:01\r\u001b[K     |███████████████████████         | 256 kB 8.6 MB/s eta 0:00:01\r\u001b[K     |████████████████████████        | 266 kB 8.6 MB/s eta 0:00:01\r\u001b[K     |████████████████████████▉       | 276 kB 8.6 MB/s eta 0:00:01\r\u001b[K     |█████████████████████████▊      | 286 kB 8.6 MB/s eta 0:00:01\r\u001b[K     |██████████████████████████▊     | 296 kB 8.6 MB/s eta 0:00:01\r\u001b[K     |███████████████████████████▋    | 307 kB 8.6 MB/s eta 0:00:01\r\u001b[K     |████████████████████████████▌   | 317 kB 8.6 MB/s eta 0:00:01\r\u001b[K     |█████████████████████████████▍  | 327 kB 8.6 MB/s eta 0:00:01\r\u001b[K     |██████████████████████████████▍ | 337 kB 8.6 MB/s eta 0:00:01\r\u001b[K     |███████████████████████████████▎| 348 kB 8.6 MB/s eta 0:00:01\r\u001b[K     |████████████████████████████████| 356 kB 8.6 MB/s \n",
            "\u001b[?25hRequirement already satisfied: numpy in /usr/local/lib/python3.7/dist-packages (from shap) (1.19.5)\n",
            "Requirement already satisfied: scipy in /usr/local/lib/python3.7/dist-packages (from shap) (1.4.1)\n",
            "Requirement already satisfied: scikit-learn in /usr/local/lib/python3.7/dist-packages (from shap) (0.22.2.post1)\n",
            "Requirement already satisfied: pandas in /usr/local/lib/python3.7/dist-packages (from shap) (1.1.5)\n",
            "Requirement already satisfied: tqdm>4.25.0 in /usr/local/lib/python3.7/dist-packages (from shap) (4.62.0)\n",
            "Collecting slicer==0.0.7\n",
            "  Downloading slicer-0.0.7-py3-none-any.whl (14 kB)\n",
            "Requirement already satisfied: numba in /usr/local/lib/python3.7/dist-packages (from shap) (0.51.2)\n",
            "Requirement already satisfied: cloudpickle in /usr/local/lib/python3.7/dist-packages (from shap) (1.3.0)\n",
            "Requirement already satisfied: setuptools in /usr/local/lib/python3.7/dist-packages (from numba->shap) (57.4.0)\n",
            "Requirement already satisfied: llvmlite<0.35,>=0.34.0.dev0 in /usr/local/lib/python3.7/dist-packages (from numba->shap) (0.34.0)\n",
            "Requirement already satisfied: python-dateutil>=2.7.3 in /usr/local/lib/python3.7/dist-packages (from pandas->shap) (2.8.2)\n",
            "Requirement already satisfied: pytz>=2017.2 in /usr/local/lib/python3.7/dist-packages (from pandas->shap) (2018.9)\n",
            "Requirement already satisfied: six>=1.5 in /usr/local/lib/python3.7/dist-packages (from python-dateutil>=2.7.3->pandas->shap) (1.15.0)\n",
            "Requirement already satisfied: joblib>=0.11 in /usr/local/lib/python3.7/dist-packages (from scikit-learn->shap) (1.0.1)\n",
            "Building wheels for collected packages: shap\n",
            "  Building wheel for shap (setup.py) ... \u001b[?25l\u001b[?25hdone\n",
            "  Created wheel for shap: filename=shap-0.39.0-cp37-cp37m-linux_x86_64.whl size=491650 sha256=c050d4d0c977d12571e2b1a0c70b959cc94ab066dba7fd6de55563529e69df91\n",
            "  Stored in directory: /root/.cache/pip/wheels/ca/25/8f/6ae5df62c32651cd719e972e738a8aaa4a87414c4d2b14c9c0\n",
            "Successfully built shap\n",
            "Installing collected packages: slicer, shap\n",
            "Successfully installed shap-0.39.0 slicer-0.0.7\n"
          ],
          "name": "stdout"
        }
      ]
    },
    {
      "cell_type": "code",
      "metadata": {
        "id": "J4aqP-JedvMz"
      },
      "source": [
        "import shap"
      ],
      "execution_count": null,
      "outputs": []
    },
    {
      "cell_type": "code",
      "metadata": {
        "id": "N3JbVXvWdzIG"
      },
      "source": [
        "image_batchs = next(iter(test_loader))"
      ],
      "execution_count": null,
      "outputs": []
    },
    {
      "cell_type": "code",
      "metadata": {
        "id": "Mds0xO8ReRTQ"
      },
      "source": [
        "input_images, input_labels = image_batchs"
      ],
      "execution_count": null,
      "outputs": []
    },
    {
      "cell_type": "code",
      "metadata": {
        "colab": {
          "base_uri": "https://localhost:8080/",
          "height": 198
        },
        "id": "Yc8Z47WWeZNh",
        "outputId": "b9eafeb3-2f4b-4181-900a-70b25a9bc4ea"
      },
      "source": [
        "render_bg = image_batchs[:100].to(device)\n",
        "test_images = input_images[100:100].to(device) #10개의 이미지가 리스트에 담긴다.\n",
        "explan = shap.DeepExplainer(model,render_bg)\n"
      ],
      "execution_count": null,
      "outputs": [
        {
          "output_type": "error",
          "ename": "AttributeError",
          "evalue": "ignored",
          "traceback": [
            "\u001b[0;31m---------------------------------------------------------------------------\u001b[0m",
            "\u001b[0;31mAttributeError\u001b[0m                            Traceback (most recent call last)",
            "\u001b[0;32m<ipython-input-21-4ab596178ddc>\u001b[0m in \u001b[0;36m<module>\u001b[0;34m()\u001b[0m\n\u001b[0;32m----> 1\u001b[0;31m \u001b[0mrender_bg\u001b[0m \u001b[0;34m=\u001b[0m \u001b[0mimage_batchs\u001b[0m\u001b[0;34m[\u001b[0m\u001b[0;34m:\u001b[0m\u001b[0;36m100\u001b[0m\u001b[0;34m]\u001b[0m\u001b[0;34m.\u001b[0m\u001b[0mto\u001b[0m\u001b[0;34m(\u001b[0m\u001b[0mdevice\u001b[0m\u001b[0;34m)\u001b[0m\u001b[0;34m\u001b[0m\u001b[0;34m\u001b[0m\u001b[0m\n\u001b[0m\u001b[1;32m      2\u001b[0m \u001b[0mtest_images\u001b[0m \u001b[0;34m=\u001b[0m \u001b[0minput_images\u001b[0m\u001b[0;34m[\u001b[0m\u001b[0;36m100\u001b[0m\u001b[0;34m:\u001b[0m\u001b[0;36m100\u001b[0m\u001b[0;34m]\u001b[0m\u001b[0;34m.\u001b[0m\u001b[0mto\u001b[0m\u001b[0;34m(\u001b[0m\u001b[0mdevice\u001b[0m\u001b[0;34m)\u001b[0m \u001b[0;31m#10개의 이미지가 리스트에 담긴다.\u001b[0m\u001b[0;34m\u001b[0m\u001b[0;34m\u001b[0m\u001b[0m\n\u001b[1;32m      3\u001b[0m \u001b[0mexplan\u001b[0m \u001b[0;34m=\u001b[0m \u001b[0mshap\u001b[0m\u001b[0;34m.\u001b[0m\u001b[0mDeepExplainer\u001b[0m\u001b[0;34m(\u001b[0m\u001b[0mmodel\u001b[0m\u001b[0;34m,\u001b[0m\u001b[0mrender_bg\u001b[0m\u001b[0;34m)\u001b[0m\u001b[0;34m\u001b[0m\u001b[0;34m\u001b[0m\u001b[0m\n",
            "\u001b[0;31mAttributeError\u001b[0m: 'list' object has no attribute 'to'"
          ]
        }
      ]
    },
    {
      "cell_type": "code",
      "metadata": {
        "colab": {
          "base_uri": "https://localhost:8080/",
          "height": 164
        },
        "id": "xa-a74oPe84T",
        "outputId": "b94b86c5-7b58-48c3-eb06-0e09820029db"
      },
      "source": [
        "extraction_shap_value = explan.extraction_shap_values(test_images) "
      ],
      "execution_count": null,
      "outputs": [
        {
          "output_type": "error",
          "ename": "NameError",
          "evalue": "ignored",
          "traceback": [
            "\u001b[0;31m---------------------------------------------------------------------------\u001b[0m",
            "\u001b[0;31mNameError\u001b[0m                                 Traceback (most recent call last)",
            "\u001b[0;32m<ipython-input-23-9a3724005588>\u001b[0m in \u001b[0;36m<module>\u001b[0;34m()\u001b[0m\n\u001b[0;32m----> 1\u001b[0;31m \u001b[0mextraction_shap_value\u001b[0m \u001b[0;34m=\u001b[0m \u001b[0mexplan\u001b[0m\u001b[0;34m.\u001b[0m\u001b[0mextraction_shap_values\u001b[0m\u001b[0;34m(\u001b[0m\u001b[0mtest_images\u001b[0m\u001b[0;34m)\u001b[0m\u001b[0;34m\u001b[0m\u001b[0;34m\u001b[0m\u001b[0m\n\u001b[0m",
            "\u001b[0;31mNameError\u001b[0m: name 'explan' is not defined"
          ]
        }
      ]
    },
    {
      "cell_type": "code",
      "metadata": {
        "colab": {
          "base_uri": "https://localhost:8080/",
          "height": 232
        },
        "id": "xyhzOU1NfGNY",
        "outputId": "8e85ea0a-6b16-4603-9805-a89e5dbf554d"
      },
      "source": [
        "shape_numpy = [np.swapaxes(np.swapaxes(s,1,-1),1,2)for s in extraction_shap_value]\n",
        "test_numpy = np.swapaxes(np.swapaxes(test_images.detach().cpu().numpy(),1,-1),1,2)\n",
        "\n",
        "shap.image_plot(shape_numpy,-test_numpy)\n",
        "\n",
        "with torch.no_grad():\n",
        "    y = model(input_test_images.to(device))\n",
        "    print(f'예측된 값: {torch.argmax(y[0]).detach().cpu().numpy()}')\n",
        "    print(f'정답: {input_test_labesl[0].detach().cpu().numpy()}')\n",
        "    plt.imshow(input_test_images[0].squeeze())"
      ],
      "execution_count": null,
      "outputs": [
        {
          "output_type": "error",
          "ename": "NameError",
          "evalue": "ignored",
          "traceback": [
            "\u001b[0;31m---------------------------------------------------------------------------\u001b[0m",
            "\u001b[0;31mNameError\u001b[0m                                 Traceback (most recent call last)",
            "\u001b[0;32m<ipython-input-22-119701c45656>\u001b[0m in \u001b[0;36m<module>\u001b[0;34m()\u001b[0m\n\u001b[0;32m----> 1\u001b[0;31m \u001b[0mshape_numpy\u001b[0m \u001b[0;34m=\u001b[0m \u001b[0;34m[\u001b[0m\u001b[0mnp\u001b[0m\u001b[0;34m.\u001b[0m\u001b[0mswapaxes\u001b[0m\u001b[0;34m(\u001b[0m\u001b[0mnp\u001b[0m\u001b[0;34m.\u001b[0m\u001b[0mswapaxes\u001b[0m\u001b[0;34m(\u001b[0m\u001b[0ms\u001b[0m\u001b[0;34m,\u001b[0m\u001b[0;36m1\u001b[0m\u001b[0;34m,\u001b[0m\u001b[0;34m-\u001b[0m\u001b[0;36m1\u001b[0m\u001b[0;34m)\u001b[0m\u001b[0;34m,\u001b[0m\u001b[0;36m1\u001b[0m\u001b[0;34m,\u001b[0m\u001b[0;36m2\u001b[0m\u001b[0;34m)\u001b[0m\u001b[0;32mfor\u001b[0m \u001b[0ms\u001b[0m \u001b[0;32min\u001b[0m \u001b[0mextraction_shap_value\u001b[0m\u001b[0;34m]\u001b[0m\u001b[0;34m\u001b[0m\u001b[0;34m\u001b[0m\u001b[0m\n\u001b[0m\u001b[1;32m      2\u001b[0m \u001b[0mtest_numpy\u001b[0m \u001b[0;34m=\u001b[0m \u001b[0mnp\u001b[0m\u001b[0;34m.\u001b[0m\u001b[0mswapaxes\u001b[0m\u001b[0;34m(\u001b[0m\u001b[0mnp\u001b[0m\u001b[0;34m.\u001b[0m\u001b[0mswapaxes\u001b[0m\u001b[0;34m(\u001b[0m\u001b[0mtest_images\u001b[0m\u001b[0;34m.\u001b[0m\u001b[0mdetach\u001b[0m\u001b[0;34m(\u001b[0m\u001b[0;34m)\u001b[0m\u001b[0;34m.\u001b[0m\u001b[0mcpu\u001b[0m\u001b[0;34m(\u001b[0m\u001b[0;34m)\u001b[0m\u001b[0;34m.\u001b[0m\u001b[0mnumpy\u001b[0m\u001b[0;34m(\u001b[0m\u001b[0;34m)\u001b[0m\u001b[0;34m,\u001b[0m\u001b[0;36m1\u001b[0m\u001b[0;34m,\u001b[0m\u001b[0;34m-\u001b[0m\u001b[0;36m1\u001b[0m\u001b[0;34m)\u001b[0m\u001b[0;34m,\u001b[0m\u001b[0;36m1\u001b[0m\u001b[0;34m,\u001b[0m\u001b[0;36m2\u001b[0m\u001b[0;34m)\u001b[0m\u001b[0;34m\u001b[0m\u001b[0;34m\u001b[0m\u001b[0m\n\u001b[1;32m      3\u001b[0m \u001b[0;34m\u001b[0m\u001b[0m\n\u001b[1;32m      4\u001b[0m \u001b[0mshap\u001b[0m\u001b[0;34m.\u001b[0m\u001b[0mimage_plot\u001b[0m\u001b[0;34m(\u001b[0m\u001b[0mshape_numpy\u001b[0m\u001b[0;34m,\u001b[0m\u001b[0;34m-\u001b[0m\u001b[0mtest_numpy\u001b[0m\u001b[0;34m)\u001b[0m\u001b[0;34m\u001b[0m\u001b[0;34m\u001b[0m\u001b[0m\n\u001b[1;32m      5\u001b[0m \u001b[0;34m\u001b[0m\u001b[0m\n",
            "\u001b[0;31mNameError\u001b[0m: name 'extraction_shap_value' is not defined"
          ]
        }
      ]
    }
  ]
}