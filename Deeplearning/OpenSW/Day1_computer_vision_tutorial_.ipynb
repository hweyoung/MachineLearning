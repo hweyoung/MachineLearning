{
  "nbformat": 4,
  "nbformat_minor": 0,
  "metadata": {
    "colab": {
      "name": "computer_vision_tutorial_day_1.ipynb",
      "private_outputs": true,
      "provenance": []
    },
    "kernelspec": {
      "name": "python3",
      "display_name": "Python 3"
    },
    "language_info": {
      "name": "python"
    },
    "accelerator": "GPU"
  },
  "cells": [
    {
      "cell_type": "code",
      "metadata": {
        "id": "2seuIoetUMxU"
      },
      "source": [
        "# graph 문제를 풀기 위한 torch, compuet vision문제를 보다 쉽게 해결할 수 있는 모듈인 torchvision import\n",
        "import random\n",
        "import numpy as np\n",
        "import torch\n",
        "import torch.nn as nn\n",
        "from torch.utils.data import DataLoader\n",
        "from torchvision import datasets\n",
        "from torchvision.transforms import ToTensor, Compose"
      ],
      "execution_count": null,
      "outputs": []
    },
    {
      "cell_type": "code",
      "metadata": {
        "id": "5eHukdJjUPuO"
      },
      "source": [
        "def set_manual_seed(seed=42):\n",
        "  \"\"\"\n",
        "    난수 발생시 고정된 난수를 발생시키기 위해 python local package\n",
        "    random, numpy (다차원의 메트릭을 다루기위환 package), pytorch\n",
        "    seed를 고정하는 function 입니다.\n",
        "    난수 발생시 나오는 문제를 피하기 위해 미리 seed를 고정시켜놓는다. \n",
        "  \"\"\"\n",
        "  random.seed(seed)\n",
        "  np.random.seed(seed)\n",
        "  torch.manual_seed(seed)\n",
        "  torch.cuda.manual_seed(seed)\n",
        "  torch.cuda.manual_seed_all(seed)\n",
        "set_manual_seed()"
      ],
      "execution_count": null,
      "outputs": []
    },
    {
      "cell_type": "code",
      "metadata": {
        "id": "R0RLH8vlUSyF"
      },
      "source": [
        "\"\"\"\n",
        "  학습을 위한 데이터 다운로드 및 Object Class형태로 변환 \n",
        "  학습 데이터 : 60000개\n",
        "\"\"\"\n",
        "train_data = datasets.FashionMNIST(\n",
        "    root='data',\n",
        "    train=True,\n",
        "    download=True,\n",
        "    transform=ToTensor()\n",
        ")\n",
        "\"\"\"\n",
        "  평가 위한 데이터 다운로드 및 Object Class형태로 변환 \n",
        "  평가 데이터 : 10000개\n",
        "\"\"\"\n",
        "validation_data = datasets.FashionMNIST(\n",
        "    root='data',\n",
        "    train=False,\n",
        "    download=True,\n",
        "    transform=ToTensor()\n",
        ")"
      ],
      "execution_count": null,
      "outputs": []
    },
    {
      "cell_type": "code",
      "metadata": {
        "id": "m-pCW50pUUEJ"
      },
      "source": [
        "\"\"\"\n",
        "  1. 학습 모델에 필요한 HyperParameters\n",
        "  2. GPU 혹은 CPU를 사용하여 학습\n",
        "  전체 데이터에서 몇개의 데이터를 구분지을 것인가\n",
        "\"\"\" \n",
        "batch_size = 128\n",
        "epochs = 10\n",
        "learning_rate = 1e-3\n",
        "log_step = 100\n",
        "device = 'cuda' if torch.cuda.is_available() else 'cpu'"
      ],
      "execution_count": null,
      "outputs": []
    },
    {
      "cell_type": "code",
      "metadata": {
        "id": "dGngTJ6RUV0X"
      },
      "source": [
        "\"\"\"\n",
        "  모델 학습과 평가를 위한 데이터 로더\n",
        "\"\"\"\n",
        "train_loader = DataLoader(train_data, batch_size=batch_size)  #batch size는 전체 데이터 사이즈에서 나눈다 0에 수렴하는가를 확인해본다.\n",
        "validation_loader = DataLoader(validation_data, batch_size=batch_size)"
      ],
      "execution_count": null,
      "outputs": []
    },
    {
      "cell_type": "code",
      "metadata": {
        "id": "dvO0x_-9UY27"
      },
      "source": [
        "# neural network\n",
        "class NeuralNet(nn.Module):\n",
        "    \n",
        "    def __init__(self):\n",
        "        super(NeuralNet, self).__init__()\n",
        "        # image shape or size: [1, 28, 28] Number of batch, Channel size (3,1), H: 28, W: 28\n",
        "        \"\"\"\n",
        "        1. 최초에 입력받을 이미지의 shape가 [1, 28 ,28] 이기 때문에 1차원 배열로 변경 28 * 28 * 1 그렇기 위해 feature_flatten이 필요\n",
        "        + 항상 레이어의 outpu_features 갯수와 다음 레이어의 input_features의 수가 동일해야함\n",
        "        \"\"\"\n",
        "        self.feature_flatten = nn.Flatten()\n",
        "        \"\"\"\n",
        "        2. Fully Connected Layer + ReLU(actiation)을 이용하여 첫번째 레이어를 형성함\n",
        "        \"\"\"\n",
        "        self.linear_1 = nn.Linear(in_features=28 * 28, out_features=512)\n",
        "        self.relu_1 = nn.ReLU()\n",
        "        \"\"\"\n",
        "        3. Fully Connected Layer + ReLU(actiation)을 이용하여 두번째 레이어를 형성함\n",
        "        \"\"\"\n",
        "        self.linear_2 = nn.Linear(in_features=512, out_features=512) \n",
        "        self.relu_2 = nn.ReLU()\n",
        "        \"\"\"\n",
        "        4. Fully Connected Layer + ReLU(actiation)을 이용하여 마지막 레이어를 형성함\n",
        "        \"\"\"\n",
        "        self.linear_3 = nn.Linear(in_features=512, out_features=10)\n",
        "        self.relu_3 = nn.ReLU()\n",
        "    \n",
        "    def forward(self, x):\n",
        "        \"\"\"\n",
        "            :x pram: input image tensor (batch, channel, height, widht)\n",
        "        \"\"\"\n",
        "        x = self.feature_flatten(x)\n",
        "        x = self.relu_1(self.linear_1(x))\n",
        "        x = self.relu_2(self.linear_2(x))\n",
        "        logits = self.relu_3(self.linear_3(x))\n",
        "\n",
        "        return logits\n",
        "        "
      ],
      "execution_count": null,
      "outputs": []
    },
    {
      "cell_type": "code",
      "metadata": {
        "id": "Hg7UrvSLUcQF"
      },
      "source": [
        "\"\"\"\n",
        "  모델이 학습이 잘되고 있는가를 평가할 수 있는 함수인 loss function 정의\n",
        "  loss function이 0에 수렴할 수 있도록 최적화 알고리즘인 Gradient Decent 정의\n",
        "\"\"\"\n",
        "model = NeuralNet().to(device)\n",
        "loss_fn = nn.CrossEntropyLoss()\n",
        "optim = torch.optim.SGD(model.parameters(), lr=learning_rate)"
      ],
      "execution_count": null,
      "outputs": []
    },
    {
      "cell_type": "code",
      "metadata": {
        "id": "wHnc6ctbI7gs"
      },
      "source": [
        "def train_op(train_loader, model, loss_fn, optim):\n",
        "    data_size = len(train_loader.dataset)\n",
        "    model.train()\n",
        "    for batch, (input_images, input_labels) in enumerate(train_loader):\n",
        "        \"\"\"\n",
        "            traing data loader에서 이미지와 레이블을 가지고와 GPU연산이 가능 하도록 injection\n",
        "        \"\"\"\n",
        "        input_images = input_images.to(device)\n",
        "        input_labels = input_labels.to(device)\n",
        "        \n",
        "        prediction = model(input_images)\n",
        "        \"\"\"\n",
        "            예측한 결과와 실제로 정답지를 비교해가면서 loss의 값을 축적함\n",
        "        \"\"\"\n",
        "        loss = loss_fn(prediction, input_labels)\n",
        "        \"\"\"\n",
        "            마지막에 정답이라고 말한 y_hat의 값을 역전파하여 파라미터를 업데이트함\n",
        "            -> e.g. 티셔츠를 부추라고 예측하였으면 다시 티셔츠라고 알려주는 행위\n",
        "        \"\"\"\n",
        "        optim.zero_grad()\n",
        "        loss.backward()\n",
        "        optim.step()\n",
        "        \"\"\"\n",
        "            학습시에 모델의 loss를 모니터링 위한 로그\n",
        "        \"\"\"\n",
        "        if batch % log_step == 0:\n",
        "            print(f'loss function value: {loss.item():.5f}')"
      ],
      "execution_count": null,
      "outputs": []
    },
    {
      "cell_type": "code",
      "metadata": {
        "id": "GThD-fJ56O5W"
      },
      "source": [
        "def test_op(validation_loader, model, loss_fn):\n",
        "  data_size = len(validation_loader.dataset)\n",
        "  batches = len(validation_loader)\n",
        "  model.eval()  #test를 할 때 사용한다. 이류를 찾아보자\n",
        "  test_loss, correct = 0,0\n",
        "  with torch.no_grad(): #미분을 수행하지 않겠다. \n",
        "    for input_test_images, input_test_labels in test_loader:\n",
        "      #cpu->Gpu\n",
        "      input_test_images,input_test_labels = input_test_images.to(device), input_test_labels.to(device)\n",
        "\n",
        "      #compute error and prediction\n",
        "      prediction = model(input_test_images)    \n",
        "      test_loss += loss_fn(prediction, input_test_labels).item()\n",
        "      correct += (prediction.argmax(1) == input_test_labels).type(torch.float32).sum().item()\n",
        "\n",
        "    test_loss /= batches\n",
        "    accuarcy = correct / data_size\n",
        "    print(f'test accuracy: {accuarcy:.4f}')"
      ],
      "execution_count": null,
      "outputs": []
    },
    {
      "cell_type": "code",
      "metadata": {
        "id": "qL1bjweg5OAc"
      },
      "source": [
        "for _ in range(epochs):\n",
        "  train_op(train_loader, model, loss_fn, optim)\n",
        "  \"\"\"\n",
        "    step : test operation\n",
        "  \"\"\""
      ],
      "execution_count": null,
      "outputs": []
    },
    {
      "cell_type": "code",
      "metadata": {
        "id": "ppaB6R-S-SrY"
      },
      "source": [
        "torch.save(model.state_dict(),'latest.pth')"
      ],
      "execution_count": null,
      "outputs": []
    },
    {
      "cell_type": "code",
      "metadata": {
        "id": "JlkfisjgCMHj"
      },
      "source": [
        "del model"
      ],
      "execution_count": null,
      "outputs": []
    },
    {
      "cell_type": "code",
      "metadata": {
        "id": "x30K5w7uCOL9"
      },
      "source": [
        "model = NeuralNet()\n",
        "model.load_state_dict(torch.load('latest.pth',map_location = device))"
      ],
      "execution_count": null,
      "outputs": []
    },
    {
      "cell_type": "code",
      "metadata": {
        "id": "fK_rY3GSCYT9"
      },
      "source": [
        "#시각화 & 모델 예측\n",
        "import matplotlib.pyplot as plt\n",
        "classes = [\n",
        "    \"shirt\",\n",
        "    \"trouser\",\n",
        "    \"pullover\",\n",
        "    \"dress\",\n",
        "    \"coat\",\n",
        "    \"sandal\",\n",
        "    \"shirt\",\n",
        "    \"sneaker\",\n",
        "    \"bag\",\n",
        "    \"ankle boot\",\n",
        "]\n",
        "\n",
        "model.eval()  \n",
        "rand_idx = random.randint(0,len(validation_data)-1)\n",
        "\n",
        "input_image,input_label= validation_data[rand_idx][0],validation_data[rand_idx][1]\n",
        "fig = plt.figure(figsize = (8,8))\n",
        "with torch.no_grad():\n",
        "  print(f'current data index : {rand_idx}')\n",
        "  y_hat = model(input_image)\n",
        "  prediction = classes[torch.argmax(y_hat.squeeze())]\n",
        "  decode_label = classes[input_label]\n",
        "  print(f'prediction result:{prediction}, actually:{decode_label}')\n",
        "  plt.imshow(input_image.squeeze())"
      ],
      "execution_count": null,
      "outputs": []
    },
    {
      "cell_type": "code",
      "metadata": {
        "id": "RU_zHeLsDOqi"
      },
      "source": [
        ""
      ],
      "execution_count": null,
      "outputs": []
    }
  ]
}